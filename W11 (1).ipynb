{
 "cells": [
  {
   "cell_type": "markdown",
   "metadata": {
    "cell_id": "7e208cd796ec49ec8c671716cd0b876d",
    "deepnote_cell_type": "text-cell-h1",
    "formattedRanges": []
   },
   "source": [
    "# "
   ]
  },
  {
   "cell_type": "markdown",
   "metadata": {
    "cell_id": "2924f6a80c204c81a9f1443e7c045b87",
    "deepnote_cell_type": "text-cell-h1",
    "formattedRanges": []
   },
   "source": [
    "# WEEK 11"
   ]
  },
  {
   "cell_type": "code",
   "execution_count": 1,
   "metadata": {
    "cell_id": "eb6d8e89763a4294b69116695ae05e04",
    "deepnote_cell_type": "code",
    "deepnote_to_be_reexecuted": false,
    "execution_millis": 7,
    "execution_start": 1699328605312,
    "source_hash": "b7dcc9c8"
   },
   "outputs": [],
   "source": [
    "import numpy as np\n",
    "import pandas as pd"
   ]
  },
  {
   "cell_type": "markdown",
   "metadata": {
    "cell_id": "eff444dc4ec0446d9ffc35337383d4fb",
    "deepnote_cell_type": "text-cell-h3",
    "formattedRanges": []
   },
   "source": [
    "### STACK, SPLIT, RESIZE"
   ]
  },
  {
   "cell_type": "code",
   "execution_count": 53,
   "metadata": {
    "cell_id": "f7e0382f70b0460a87412dfbd3d1adda",
    "deepnote_cell_type": "code",
    "deepnote_to_be_reexecuted": false,
    "execution_millis": 9,
    "execution_start": 1699328609521,
    "source_hash": "c4245bfb"
   },
   "outputs": [
    {
     "name": "stdout",
     "output_type": "stream",
     "text": [
      "[[1 2 3]\n",
      " [5 6 7]\n",
      " [2 3 4]\n",
      " [7 8 9]]\n"
     ]
    }
   ],
   "source": [
    "x = np.array([[1,2,3],[5,6,7]])\n",
    "y = np.array([2,3,4])\n",
    "z = np.array([7,8,9])\n",
    "xy = np.vstack((x,y,z)) #Gabungin secara vertikal\n",
    "print(xy)"
   ]
  },
  {
   "cell_type": "code",
   "execution_count": 54,
   "metadata": {
    "cell_id": "019f0bfd79904f3db019fe3972ffb18f",
    "deepnote_cell_type": "code",
    "deepnote_to_be_reexecuted": false,
    "execution_millis": 37,
    "execution_start": 1699328615416,
    "source_hash": "6952360"
   },
   "outputs": [
    {
     "data": {
      "text/plain": [
       "array([[ 1,  2,  3, 10],\n",
       "       [ 5,  6,  7, 11],\n",
       "       [ 2,  3,  4, 12],\n",
       "       [ 7,  8,  9, 13]])"
      ]
     },
     "execution_count": 54,
     "metadata": {},
     "output_type": "execute_result"
    }
   ],
   "source": [
    "a = np.array([[10],[11],[12],[13]])\n",
    "A = np.hstack((xy,a)) #menggabungkan secara horizontal\n",
    "A"
   ]
  },
  {
   "cell_type": "code",
   "execution_count": 57,
   "metadata": {
    "cell_id": "8f7ed39bf7064cd78bf7fe0626202094",
    "deepnote_cell_type": "code",
    "deepnote_to_be_reexecuted": false,
    "execution_millis": 7,
    "execution_start": 1699328617650,
    "source_hash": "2f091130"
   },
   "outputs": [
    {
     "data": {
      "text/plain": [
       "[array([[1, 2],\n",
       "        [5, 6],\n",
       "        [2, 3],\n",
       "        [7, 8]]),\n",
       " array([[ 3, 10],\n",
       "        [ 7, 11],\n",
       "        [ 4, 12],\n",
       "        [ 9, 13]])]"
      ]
     },
     "execution_count": 57,
     "metadata": {},
     "output_type": "execute_result"
    }
   ],
   "source": [
    "b = np.hsplit(A, 2) #membagi matrix A menjadi 2\n",
    "b"
   ]
  },
  {
   "cell_type": "code",
   "execution_count": 58,
   "metadata": {
    "cell_id": "c684696a1c324666b9023e6eadf0aeae",
    "deepnote_cell_type": "code",
    "deepnote_to_be_reexecuted": false,
    "execution_millis": 18,
    "execution_start": 1699328620539,
    "source_hash": "6ba0b53b"
   },
   "outputs": [
    {
     "data": {
      "text/plain": [
       "[array([[ 1,  2,  3, 10],\n",
       "        [ 5,  6,  7, 11]]),\n",
       " array([[ 2,  3,  4, 12],\n",
       "        [ 7,  8,  9, 13]])]"
      ]
     },
     "execution_count": 58,
     "metadata": {},
     "output_type": "execute_result"
    }
   ],
   "source": [
    "c = np.vsplit(A,2)\n",
    "c"
   ]
  },
  {
   "cell_type": "code",
   "execution_count": 61,
   "metadata": {
    "cell_id": "fc6852578b7e4493b688508b370d59f6",
    "deepnote_cell_type": "code",
    "deepnote_to_be_reexecuted": false,
    "execution_millis": 168,
    "execution_start": 1699328623756,
    "source_hash": "720c6e9c"
   },
   "outputs": [
    {
     "data": {
      "text/plain": [
       "array([[ 1,  2,  3, 10,  5],\n",
       "       [ 6,  7, 11,  2,  3],\n",
       "       [ 4, 12,  7,  8,  9],\n",
       "       [13,  1,  2,  3, 10]])"
      ]
     },
     "execution_count": 61,
     "metadata": {},
     "output_type": "execute_result"
    }
   ],
   "source": [
    "np.resize(A, (4,5))"
   ]
  },
  {
   "cell_type": "code",
   "execution_count": 7,
   "metadata": {
    "cell_id": "412c8e7fab274a43a1c93da0828839a3",
    "deepnote_cell_type": "code",
    "deepnote_to_be_reexecuted": false,
    "execution_millis": 7,
    "execution_start": 1699328626728,
    "source_hash": "4658a27d"
   },
   "outputs": [
    {
     "data": {
      "text/plain": [
       "array([[ 1,  2],\n",
       "       [ 3, 10]])"
      ]
     },
     "execution_count": 7,
     "metadata": {},
     "output_type": "execute_result"
    }
   ],
   "source": [
    "np.resize(A, (2,2))"
   ]
  },
  {
   "cell_type": "markdown",
   "metadata": {
    "cell_id": "633d5b16ec834aff8b1339d391e6a582",
    "deepnote_cell_type": "text-cell-h3",
    "formattedRanges": []
   },
   "source": [
    "### DIAGONAL"
   ]
  },
  {
   "cell_type": "code",
   "execution_count": 62,
   "metadata": {
    "cell_id": "82e7f90779264ff49310e0875d5f678d",
    "deepnote_cell_type": "code",
    "deepnote_to_be_reexecuted": false,
    "execution_millis": 7,
    "execution_start": 1699328631588,
    "source_hash": "d12c9a80"
   },
   "outputs": [
    {
     "data": {
      "text/plain": [
       "array([[ 1,  2,  3, 10],\n",
       "       [ 5,  6,  7, 11],\n",
       "       [ 2,  3,  4, 12],\n",
       "       [ 7,  8,  9, 13]])"
      ]
     },
     "execution_count": 62,
     "metadata": {},
     "output_type": "execute_result"
    }
   ],
   "source": [
    "A"
   ]
  },
  {
   "cell_type": "code",
   "execution_count": 63,
   "metadata": {
    "cell_id": "3960c5c6bf9646e187786a181d719842",
    "deepnote_cell_type": "code",
    "deepnote_to_be_reexecuted": false,
    "execution_millis": 6,
    "execution_start": 1699328633371,
    "source_hash": "92216e70"
   },
   "outputs": [
    {
     "data": {
      "text/plain": [
       "array([ 1,  6,  4, 13])"
      ]
     },
     "execution_count": 63,
     "metadata": {},
     "output_type": "execute_result"
    }
   ],
   "source": [
    "diag1 = np.diag(A)\n",
    "diag1"
   ]
  },
  {
   "cell_type": "code",
   "execution_count": 65,
   "metadata": {
    "cell_id": "8ea0324252f947839f0347e717d21e31",
    "deepnote_cell_type": "code",
    "deepnote_to_be_reexecuted": false,
    "execution_millis": 9,
    "execution_start": 1699328635475,
    "source_hash": "dc32c42d"
   },
   "outputs": [
    {
     "data": {
      "text/plain": [
       "array([[13,  9,  8,  7],\n",
       "       [12,  4,  3,  2],\n",
       "       [11,  7,  6,  5],\n",
       "       [10,  3,  2,  1]])"
      ]
     },
     "execution_count": 65,
     "metadata": {},
     "output_type": "execute_result"
    }
   ],
   "source": [
    "np.diag(np.flip(A)) #membalikkan diagonal\n",
    "np.flip(A)"
   ]
  },
  {
   "cell_type": "code",
   "execution_count": 11,
   "metadata": {
    "cell_id": "8a305003e2f141c7af421c120953184c",
    "deepnote_cell_type": "code",
    "deepnote_to_be_reexecuted": false,
    "execution_millis": 16,
    "execution_start": 1699328637451,
    "source_hash": "aa9293cd"
   },
   "outputs": [
    {
     "data": {
      "text/plain": [
       "array([[10,  3,  2,  1],\n",
       "       [11,  7,  6,  5],\n",
       "       [12,  4,  3,  2],\n",
       "       [13,  9,  8,  7]])"
      ]
     },
     "execution_count": 11,
     "metadata": {},
     "output_type": "execute_result"
    }
   ],
   "source": [
    "np.fliplr(A) #reverse order (bisa mengambil bukan diagonal utama)"
   ]
  },
  {
   "cell_type": "code",
   "execution_count": 12,
   "metadata": {
    "cell_id": "f254132c13c14563aa1d2f7abd63141f",
    "deepnote_cell_type": "code",
    "deepnote_to_be_reexecuted": false,
    "execution_millis": 10,
    "execution_start": 1699328639296,
    "source_hash": "671af9eb"
   },
   "outputs": [
    {
     "data": {
      "text/plain": [
       "array([[13,  9,  8,  7],\n",
       "       [12,  4,  3,  2],\n",
       "       [11,  7,  6,  5],\n",
       "       [10,  3,  2,  1]])"
      ]
     },
     "execution_count": 12,
     "metadata": {},
     "output_type": "execute_result"
    }
   ],
   "source": [
    "np.flip(A)"
   ]
  },
  {
   "cell_type": "code",
   "execution_count": 13,
   "metadata": {
    "cell_id": "a94dd9b2c0a946ef92719a9dc0c4f0d3",
    "deepnote_cell_type": "code",
    "deepnote_to_be_reexecuted": false,
    "execution_millis": 6,
    "execution_start": 1699328641189,
    "source_hash": "d751fa57"
   },
   "outputs": [
    {
     "data": {
      "text/plain": [
       "array([10,  7,  3,  7])"
      ]
     },
     "execution_count": 13,
     "metadata": {},
     "output_type": "execute_result"
    }
   ],
   "source": [
    "diag2 = np.diag(np.fliplr(A)) # reverse the order of array\n",
    "diag2"
   ]
  },
  {
   "cell_type": "markdown",
   "metadata": {
    "cell_id": "982e12ac490641919de3039e9f914011",
    "deepnote_cell_type": "text-cell-h3",
    "formattedRanges": []
   },
   "source": [
    "### select value other than diagonal"
   ]
  },
  {
   "cell_type": "code",
   "execution_count": 14,
   "metadata": {
    "cell_id": "e1129ea3b2634152ba570dbd208b7782",
    "deepnote_cell_type": "code",
    "deepnote_to_be_reexecuted": false,
    "execution_millis": 10,
    "execution_start": 1699328648425,
    "source_hash": "58d4be1c"
   },
   "outputs": [
    {
     "data": {
      "text/plain": [
       "array([[0, 1, 2],\n",
       "       [3, 4, 5],\n",
       "       [6, 7, 8]])"
      ]
     },
     "execution_count": 14,
     "metadata": {},
     "output_type": "execute_result"
    }
   ],
   "source": [
    "matrix = np.arange(9).reshape((3,3))\n",
    "matrix"
   ]
  },
  {
   "cell_type": "code",
   "execution_count": 15,
   "metadata": {
    "cell_id": "a1866eb524374e4297a5078e42fb8f01",
    "deepnote_cell_type": "code",
    "deepnote_to_be_reexecuted": false,
    "execution_millis": 7,
    "execution_start": 1699328650312,
    "source_hash": "d12c9a80"
   },
   "outputs": [
    {
     "data": {
      "text/plain": [
       "array([[ 1,  2,  3, 10],\n",
       "       [ 5,  6,  7, 11],\n",
       "       [ 2,  3,  4, 12],\n",
       "       [ 7,  8,  9, 13]])"
      ]
     },
     "execution_count": 15,
     "metadata": {},
     "output_type": "execute_result"
    }
   ],
   "source": [
    "A"
   ]
  },
  {
   "cell_type": "code",
   "execution_count": 16,
   "metadata": {
    "cell_id": "c1cfc8e78bdc44b1b2670eab3430416b",
    "deepnote_cell_type": "code",
    "deepnote_to_be_reexecuted": false,
    "execution_millis": 8,
    "execution_start": 1699328652229,
    "source_hash": "c3751383"
   },
   "outputs": [],
   "source": [
    "rows, col = matrix.shape"
   ]
  },
  {
   "cell_type": "code",
   "execution_count": 17,
   "metadata": {
    "cell_id": "ec1e3a5cc3b14abe8286569bacb3f66d",
    "deepnote_cell_type": "code",
    "deepnote_to_be_reexecuted": false,
    "execution_millis": 32,
    "execution_start": 1699328653603,
    "source_hash": "6b7778ed"
   },
   "outputs": [
    {
     "name": "stdout",
     "output_type": "stream",
     "text": [
      "[1, 3, 5, 7]\n"
     ]
    }
   ],
   "source": [
    "desired_elements = []\n",
    "for i in range(rows):\n",
    "    for j in range(col):\n",
    "        if i != j and i != (rows - 1 - j):\n",
    "            desired_elements.append(matrix[i][j])\n",
    "\n",
    "print(desired_elements)"
   ]
  },
  {
   "cell_type": "markdown",
   "metadata": {
    "cell_id": "40582da8449047db8e6beb5c7730a470",
    "deepnote_cell_type": "text-cell-h2",
    "formattedRanges": []
   },
   "source": [
    "## MATRIX OPERATION"
   ]
  },
  {
   "cell_type": "code",
   "execution_count": 66,
   "metadata": {
    "cell_id": "bcea091d84024d96ab87162d25f71766",
    "deepnote_cell_type": "code",
    "deepnote_to_be_reexecuted": false,
    "execution_millis": 9,
    "execution_start": 1699328656962,
    "source_hash": "5215cef8"
   },
   "outputs": [
    {
     "data": {
      "text/plain": [
       "array([[1, 2, 3],\n",
       "       [4, 5, 6],\n",
       "       [7, 8, 9]])"
      ]
     },
     "execution_count": 66,
     "metadata": {},
     "output_type": "execute_result"
    }
   ],
   "source": [
    "mtx1 = np.arange(1,10).reshape((3,3))\n",
    "mtx1"
   ]
  },
  {
   "cell_type": "code",
   "execution_count": 19,
   "metadata": {
    "cell_id": "8ed02591f844428a82a2659687386f71",
    "deepnote_cell_type": "code",
    "deepnote_to_be_reexecuted": false,
    "execution_millis": 17,
    "execution_start": 1699328659286,
    "source_hash": "4d9b34bf"
   },
   "outputs": [
    {
     "data": {
      "text/plain": [
       "array([[21, 22, 23],\n",
       "       [24, 25, 26],\n",
       "       [27, 28, 29]])"
      ]
     },
     "execution_count": 19,
     "metadata": {},
     "output_type": "execute_result"
    }
   ],
   "source": [
    "mtx2 = np.arange(21,30).reshape((3,3))\n",
    "mtx2"
   ]
  },
  {
   "cell_type": "code",
   "execution_count": 20,
   "metadata": {
    "cell_id": "60f048a13cd9415183b0ee57c0e22d2c",
    "deepnote_cell_type": "code",
    "deepnote_to_be_reexecuted": false,
    "execution_millis": 8,
    "execution_start": 1699328661481,
    "source_hash": "e2a3593"
   },
   "outputs": [
    {
     "data": {
      "text/plain": [
       "array([[22, 24, 26],\n",
       "       [28, 30, 32],\n",
       "       [34, 36, 38]])"
      ]
     },
     "execution_count": 20,
     "metadata": {},
     "output_type": "execute_result"
    }
   ],
   "source": [
    "jumlah  = mtx1 + mtx2\n",
    "jumlah"
   ]
  },
  {
   "cell_type": "code",
   "execution_count": 21,
   "metadata": {
    "cell_id": "3fbf4aa0a9794569a3bc92540afb9348",
    "deepnote_cell_type": "code",
    "deepnote_to_be_reexecuted": false,
    "execution_millis": 14,
    "execution_start": 1699328663230,
    "source_hash": "d42bdd6b"
   },
   "outputs": [
    {
     "data": {
      "text/plain": [
       "array([[-20, -20, -20],\n",
       "       [-20, -20, -20],\n",
       "       [-20, -20, -20]])"
      ]
     },
     "execution_count": 21,
     "metadata": {},
     "output_type": "execute_result"
    }
   ],
   "source": [
    "kurang = mtx1 - mtx2;kurang"
   ]
  },
  {
   "cell_type": "code",
   "execution_count": 22,
   "metadata": {
    "cell_id": "b1e67131d7ed404b8ae2b4f5b21e30a6",
    "deepnote_cell_type": "code",
    "deepnote_to_be_reexecuted": false,
    "execution_millis": 8,
    "execution_start": 1699328665328,
    "source_hash": "c382b617"
   },
   "outputs": [
    {
     "data": {
      "text/plain": [
       "array([[ 21,  44,  69],\n",
       "       [ 96, 125, 156],\n",
       "       [189, 224, 261]])"
      ]
     },
     "execution_count": 22,
     "metadata": {},
     "output_type": "execute_result"
    }
   ],
   "source": [
    "skalar = mtx1 * mtx2;skalar #np.out"
   ]
  },
  {
   "cell_type": "code",
   "execution_count": 23,
   "metadata": {
    "cell_id": "d6676c3c55cc4e7780785ae7c38b7714",
    "deepnote_cell_type": "code",
    "deepnote_to_be_reexecuted": false,
    "execution_millis": 7,
    "execution_start": 1699328667397,
    "source_hash": "67200988"
   },
   "outputs": [
    {
     "data": {
      "text/plain": [
       "array([[150, 156, 162],\n",
       "       [366, 381, 396],\n",
       "       [582, 606, 630]])"
      ]
     },
     "execution_count": 23,
     "metadata": {},
     "output_type": "execute_result"
    }
   ],
   "source": [
    "perkalian = mtx1 @ mtx2;perkalian #perkalian matrix %*% kalo di R"
   ]
  },
  {
   "cell_type": "code",
   "execution_count": 24,
   "metadata": {
    "cell_id": "6cd1059001de47f28ca2f98cf49ff3a2",
    "deepnote_cell_type": "code",
    "deepnote_to_be_reexecuted": false,
    "execution_millis": 32,
    "execution_start": 1699328669216,
    "source_hash": "95682b63"
   },
   "outputs": [
    {
     "data": {
      "text/plain": [
       "array([[150, 156, 162],\n",
       "       [366, 381, 396],\n",
       "       [582, 606, 630]])"
      ]
     },
     "execution_count": 24,
     "metadata": {},
     "output_type": "execute_result"
    }
   ],
   "source": [
    "perkalian2 = np.dot(mtx1, mtx2);perkalian2"
   ]
  },
  {
   "cell_type": "code",
   "execution_count": 25,
   "metadata": {
    "cell_id": "a20a13b13f5e433cb08879240e578246",
    "deepnote_cell_type": "code",
    "deepnote_to_be_reexecuted": false,
    "execution_millis": 8,
    "execution_start": 1699328670842,
    "source_hash": "c79e5e48"
   },
   "outputs": [
    {
     "data": {
      "text/plain": [
       "array([[150, 366, 582],\n",
       "       [156, 381, 606],\n",
       "       [162, 396, 630]])"
      ]
     },
     "execution_count": 25,
     "metadata": {},
     "output_type": "execute_result"
    }
   ],
   "source": [
    "np.transpose(perkalian) #T"
   ]
  },
  {
   "cell_type": "code",
   "execution_count": 26,
   "metadata": {
    "cell_id": "49b56f14532f4ee0863862f2bd3c67fb",
    "deepnote_cell_type": "code",
    "deepnote_to_be_reexecuted": false,
    "execution_millis": 10,
    "execution_start": 1699328672656,
    "source_hash": "6b4b9001"
   },
   "outputs": [
    {
     "data": {
      "text/plain": [
       "array([[ 1,  5,  2,  7],\n",
       "       [ 2,  6,  3,  8],\n",
       "       [ 3,  7,  4,  9],\n",
       "       [10, 11, 12, 13]])"
      ]
     },
     "execution_count": 26,
     "metadata": {},
     "output_type": "execute_result"
    }
   ],
   "source": [
    "np.transpose(A)"
   ]
  },
  {
   "cell_type": "code",
   "execution_count": 27,
   "metadata": {
    "cell_id": "3dec7c89735c4dd3be0adf03c7f00e8c",
    "deepnote_cell_type": "code",
    "deepnote_to_be_reexecuted": false,
    "execution_millis": 9,
    "execution_start": 1699328674208,
    "source_hash": "ee673bfd"
   },
   "outputs": [],
   "source": [
    "eigenvalue, eigenvector = np.linalg.eig(A) #LINEAR ALGEBRA"
   ]
  },
  {
   "cell_type": "code",
   "execution_count": 28,
   "metadata": {
    "cell_id": "89f27cdbb9544321a40fbe793590f394",
    "deepnote_cell_type": "code",
    "deepnote_to_be_reexecuted": false,
    "execution_millis": 7,
    "execution_start": 1699328675969,
    "source_hash": "3195059c"
   },
   "outputs": [
    {
     "data": {
      "text/plain": [
       "array([ 2.84530518e+01, -4.28917108e+00,  7.55495248e-16, -1.63880686e-01])"
      ]
     },
     "execution_count": 28,
     "metadata": {},
     "output_type": "execute_result"
    }
   ],
   "source": [
    "eigenvalue"
   ]
  },
  {
   "cell_type": "code",
   "execution_count": 29,
   "metadata": {
    "cell_id": "58283a28aa554267bf90f809c247560c",
    "deepnote_cell_type": "code",
    "deepnote_to_be_reexecuted": false,
    "execution_millis": 13,
    "execution_start": 1699328677445,
    "source_hash": "758c4b50"
   },
   "outputs": [
    {
     "data": {
      "text/plain": [
       "array([[ 3.25929620e-01,  6.17189934e-01,  4.08248290e-01,\n",
       "        -7.19998633e-02],\n",
       "       [ 5.27971978e-01, -2.11673977e-01, -8.16496581e-01,\n",
       "        -6.40793482e-01],\n",
       "       [ 4.17279297e-01,  5.99238596e-01,  4.08248290e-01,\n",
       "         7.58878121e-01],\n",
       "       [ 6.63998089e-01, -4.63879098e-01,  8.08038207e-17,\n",
       "        -9.11248148e-02]])"
      ]
     },
     "execution_count": 29,
     "metadata": {},
     "output_type": "execute_result"
    }
   ],
   "source": [
    "eigenvector"
   ]
  },
  {
   "cell_type": "code",
   "execution_count": 30,
   "metadata": {
    "cell_id": "b40943042a694d7ab8e75752a355eb6e",
    "deepnote_cell_type": "code",
    "deepnote_to_be_reexecuted": false,
    "execution_millis": 12,
    "execution_start": 1699328679605,
    "source_hash": "8b492806"
   },
   "outputs": [
    {
     "data": {
      "text/plain": [
       "7.99360577730114e-15"
      ]
     },
     "execution_count": 30,
     "metadata": {},
     "output_type": "execute_result"
    }
   ],
   "source": [
    "det = np.linalg.det(A);det "
   ]
  },
  {
   "cell_type": "code",
   "execution_count": 31,
   "metadata": {
    "cell_id": "3e99e8a678f54ac08b4b5698ebd3ddc5",
    "deepnote_cell_type": "code",
    "deepnote_to_be_reexecuted": false,
    "execution_millis": 9,
    "execution_start": 1699328681606,
    "source_hash": "a68a2883"
   },
   "outputs": [
    {
     "data": {
      "text/plain": [
       "0.0"
      ]
     },
     "execution_count": 31,
     "metadata": {},
     "output_type": "execute_result"
    }
   ],
   "source": [
    "det1 = np.linalg.det(mtx1);det1"
   ]
  },
  {
   "cell_type": "code",
   "execution_count": 32,
   "metadata": {
    "cell_id": "e34a03f9238a4cf9b8c1e5d6ab30b9d8",
    "deepnote_cell_type": "code",
    "deepnote_to_be_reexecuted": false,
    "execution_millis": 13,
    "execution_start": 1699328683185,
    "source_hash": "3c2011d3"
   },
   "outputs": [
    {
     "data": {
      "text/plain": [
       "array([[ 1.00079992e+15, -1.12589991e+15, -7.50599938e+14,\n",
       "         8.75699928e+14],\n",
       "       [-2.00159983e+15,  2.25179981e+15,  1.50119988e+15,\n",
       "        -1.75139986e+15],\n",
       "       [ 1.00079992e+15, -1.12589991e+15, -7.50599938e+14,\n",
       "         8.75699928e+14],\n",
       "       [-5.55555556e-01,  0.00000000e+00,  6.66666667e-01,\n",
       "        -1.11111111e-01]])"
      ]
     },
     "execution_count": 32,
     "metadata": {},
     "output_type": "execute_result"
    }
   ],
   "source": [
    "inv = np.linalg.inv(A);inv"
   ]
  },
  {
   "cell_type": "markdown",
   "metadata": {
    "cell_id": "40e6f6dacaf140a7b0b7775c672d8974",
    "deepnote_cell_type": "text-cell-h3",
    "formattedRanges": [],
    "jp-MarkdownHeadingCollapsed": true
   },
   "source": [
    "### Membangkitkan data "
   ]
  },
  {
   "cell_type": "markdown",
   "metadata": {
    "cell_id": "5a91a1d3c52448dcb65423d0eee5ee21",
    "deepnote_cell_type": "text-cell-h3",
    "formattedRanges": []
   },
   "source": [
    "### Distribusi Normal X~(0,1)"
   ]
  },
  {
   "cell_type": "code",
   "execution_count": 33,
   "metadata": {
    "cell_id": "554bb7b4f53e458ea98988f6b287171e",
    "deepnote_cell_type": "code",
    "deepnote_to_be_reexecuted": false,
    "execution_millis": 9,
    "execution_start": 1699328687447,
    "source_hash": "537119a"
   },
   "outputs": [
    {
     "name": "stdout",
     "output_type": "stream",
     "text": [
      "[-1.74976547  0.3426804   1.1530358  -0.25243604  0.98132079  0.51421884\n",
      "  0.22117967 -1.07004333 -0.18949583  0.25500144 -0.45802699  0.43516349\n",
      " -0.58359505  0.81684707  0.67272081 -0.10441114 -0.53128038  1.02973269\n",
      " -0.43813562 -1.11831825  1.61898166  1.54160517 -0.25187914 -0.84243574\n",
      "  0.18451869  0.9370822   0.73100034  1.36155613 -0.32623806  0.05567601\n",
      "  0.22239961 -1.443217   -0.75635231  0.81645401  0.75044476 -0.45594693\n",
      "  1.18962227 -1.69061683 -1.35639905 -1.23243451 -0.54443916 -0.66817174\n",
      "  0.00731456 -0.61293874  1.29974807 -1.73309562 -0.9833101   0.35750775\n",
      " -1.6135785   1.47071387]\n"
     ]
    }
   ],
   "source": [
    "seed_value = 100 \n",
    "np.random.seed(seed_value)\n",
    "mean = 0\n",
    "std_dev = 1\n",
    "X1 = np.random.normal(0, 1, size=50)\n",
    "print(X1)"
   ]
  },
  {
   "cell_type": "markdown",
   "metadata": {
    "cell_id": "92699f67e5374afda52072fd4cb9cc49",
    "deepnote_cell_type": "text-cell-h3",
    "formattedRanges": [],
    "jp-MarkdownHeadingCollapsed": true
   },
   "source": [
    "### Distribusi Binomial X~(n,p)"
   ]
  },
  {
   "cell_type": "code",
   "execution_count": 34,
   "metadata": {
    "cell_id": "87d5b8aadc314843861c8e30a6f5a7b7",
    "deepnote_cell_type": "code",
    "deepnote_to_be_reexecuted": false,
    "execution_millis": 9,
    "execution_start": 1699328690811,
    "source_hash": "377fd33d"
   },
   "outputs": [
    {
     "name": "stdout",
     "output_type": "stream",
     "text": [
      "[5 4 5 7 1 3 6 6 3 5 7 4 4 3 4 8 6 4 6 4 5 7 6 4 4 4 1 4 6 2 5 5 3 5 2 7 8\n",
      " 3 7 5 6 6 5 2 4 5 6 4 4 7]\n"
     ]
    }
   ],
   "source": [
    "seed_value = 100 \n",
    "np.random.seed(seed_value)\n",
    "n_trials = 10\n",
    "prob_success = 0.5\n",
    "X2 = np.random.binomial(n_trials, prob_success, size=50)\n",
    "print(X2)"
   ]
  },
  {
   "cell_type": "markdown",
   "metadata": {
    "cell_id": "5261ebb003ae44189ce97865f9c2db0a",
    "deepnote_cell_type": "text-cell-h3",
    "formattedRanges": [],
    "jp-MarkdownHeadingCollapsed": true
   },
   "source": [
    "### Distribusi Poisson X~(λ)"
   ]
  },
  {
   "cell_type": "code",
   "execution_count": 35,
   "metadata": {
    "cell_id": "38480c4a331b4ad5bd8808943ab09c98",
    "deepnote_cell_type": "code",
    "deepnote_to_be_reexecuted": false,
    "execution_millis": 12,
    "execution_start": 1699328693409,
    "source_hash": "bda43996"
   },
   "outputs": [
    {
     "name": "stdout",
     "output_type": "stream",
     "text": [
      "[4 4 3 5 6 2 4 8 4 7 2 7 3 6 5 6 4 7 5 5 6 5 3 2 6 6 6 4 7 5 6 6 9 5 5 7 7\n",
      " 4 2 1 3 7 9 7 6 5 5 2 6 2]\n"
     ]
    }
   ],
   "source": [
    "seed_value = 100 \n",
    "np.random.seed(seed_value)\n",
    "lamda = 5\n",
    "X3 = np.random.poisson(lamda, size=50)\n",
    "print(X3)"
   ]
  },
  {
   "cell_type": "markdown",
   "metadata": {
    "cell_id": "3bdc57388b994f19b95f6d849827291a",
    "deepnote_cell_type": "text-cell-h3",
    "formattedRanges": [],
    "jp-MarkdownHeadingCollapsed": true
   },
   "source": [
    "### Distribusi Eksponensial X~(θ)"
   ]
  },
  {
   "cell_type": "markdown",
   "metadata": {
    "cell_id": "ba0b7a2ade9149dcb47ea940e87b515c",
    "deepnote_cell_type": "text-cell-p",
    "formattedRanges": []
   },
   "source": [
    "*θ = 1/λ"
   ]
  },
  {
   "cell_type": "code",
   "execution_count": 36,
   "metadata": {
    "cell_id": "4fe719e59ad345ef80b93459406d0dd6",
    "deepnote_cell_type": "code",
    "deepnote_to_be_reexecuted": false,
    "execution_millis": 8,
    "execution_start": 1699328696671,
    "source_hash": "fd3881dc"
   },
   "outputs": [
    {
     "name": "stdout",
     "output_type": "stream",
     "text": [
      "[0.15679167 0.06524838 0.11050932 0.37257738 0.00094601 0.02592361\n",
      " 0.22218703 0.34957082 0.02940013 0.17117715 0.4438731  0.04694257\n",
      " 0.04099399 0.02294235 0.04961472 0.76909528 0.33392587 0.03773418\n",
      " 0.33880835 0.06406137 0.11302264 0.56278157 0.34036479 0.08192835\n",
      " 0.03857391 0.09330818 0.00114095 0.05818449 0.31759646 0.00307451\n",
      " 0.18268067 0.18516952 0.02221932 0.09623506 0.00743159 0.44220468\n",
      " 0.79183191 0.01236274 0.44245008 0.17203005 0.27133134 0.1989499\n",
      " 0.17437928 0.00413018 0.0471512  0.1573531  0.29316725 0.05772189\n",
      " 0.06734525 0.38264322]\n"
     ]
    }
   ],
   "source": [
    "seed_value = 100 \n",
    "np.random.seed(seed_value)\n",
    "lamda = 5\n",
    "X4 = np.random.exponential(1/lamda, size=50)\n",
    "print(X4)"
   ]
  },
  {
   "cell_type": "markdown",
   "metadata": {
    "cell_id": "b60e33184b94428ea2bd36a3c8fea792",
    "deepnote_cell_type": "text-cell-h3",
    "formattedRanges": [],
    "jp-MarkdownHeadingCollapsed": true
   },
   "source": [
    "### Distribusi Chi Square X~(v)"
   ]
  },
  {
   "cell_type": "code",
   "execution_count": 37,
   "metadata": {
    "cell_id": "274065479dee4eac8631f9ae5418554a",
    "deepnote_cell_type": "code",
    "deepnote_to_be_reexecuted": false,
    "execution_millis": 12,
    "execution_start": 1699328699237,
    "source_hash": "481e1342"
   },
   "outputs": [
    {
     "name": "stdout",
     "output_type": "stream",
     "text": [
      "[ 0.22713311  3.15465388  5.16002976  3.62977841  1.94744802  2.92868706\n",
      "  1.4771514   3.40529007  4.10915697  2.11496921  1.50905952  0.65533138\n",
      "  7.8691517   7.49919909  2.7550682   4.99950968  1.69715155  2.45568565\n",
      "  1.05113156  4.57879767  5.96213553  0.25525881  1.34375238  1.16709534\n",
      "  6.41792119  0.23483893  0.29524925  7.17059906  0.83475682  0.96285593\n",
      "  2.57649462  3.61122154  2.16554408  0.89073922  2.88577254  2.36272409\n",
      "  3.92399312  4.31241507  0.18785186  3.21689946 10.06595009  1.33439075\n",
      "  3.82564571  0.66819529  0.3215232   4.88511411  2.57651429  2.39496783\n",
      "  1.29298666  0.58300226]\n"
     ]
    }
   ],
   "source": [
    "seed_value = 100 \n",
    "np.random.seed(seed_value)\n",
    "df_chi_square = 3\n",
    "X5 = np.random.chisquare(df_chi_square, size=50)\n",
    "print(X5)"
   ]
  },
  {
   "cell_type": "markdown",
   "metadata": {
    "cell_id": "db6f1227fdc04225ad0e2e2c63fbe921",
    "deepnote_cell_type": "text-cell-h3",
    "formattedRanges": []
   },
   "source": [
    "### "
   ]
  },
  {
   "cell_type": "markdown",
   "metadata": {
    "cell_id": "9e20b6a92b5f4aae8432955f9d14718d",
    "deepnote_cell_type": "text-cell-h3",
    "formattedRanges": [],
    "jp-MarkdownHeadingCollapsed": true
   },
   "source": [
    "### Distribusi Gamma X~(α,β)\r\n",
    "\r"
   ]
  },
  {
   "cell_type": "code",
   "execution_count": 38,
   "metadata": {
    "cell_id": "a9504feff1f840d0bac6046a06e883a5",
    "deepnote_cell_type": "code",
    "deepnote_to_be_reexecuted": false,
    "execution_millis": 181,
    "execution_start": 1699328703959,
    "source_hash": "8de6047c"
   },
   "outputs": [
    {
     "name": "stdout",
     "output_type": "stream",
     "text": [
      "[ 0.54919369  4.29872583  6.56330828  4.84512299  2.86760589  4.03604614\n",
      "  2.28505854  4.58789371  5.3894613   3.0709474   2.32522146  1.19935646\n",
      "  9.50440952  9.10831898  3.83281711  6.38549899  2.55995221  3.47916463\n",
      "  1.73699286  5.91703411  7.44499047  0.59638255  2.11594725  1.88864082\n",
      "  7.94148363  0.56223104  0.66179582  8.75522643  1.44760522  1.62003934\n",
      "  3.62239246  4.82391932  3.13197433  1.52339182  3.98593089  3.36843805\n",
      "  5.17995659  5.61843399  0.48126197  4.37074673 11.82968273  2.10400231\n",
      "  5.06830578  1.2174657   0.70386098  6.2584775   3.62241572  3.40689597\n",
      "  2.05104385  1.09647337]\n"
     ]
    }
   ],
   "source": [
    "seed_value = 100 \n",
    "np.random.seed(seed_value)\n",
    "alpha_gamma = 2\n",
    "beta_gamma = 2\n",
    "X6 = np.random.gamma(alpha_gamma, beta_gamma, size=50)\n",
    "print(X6)"
   ]
  },
  {
   "cell_type": "markdown",
   "metadata": {
    "cell_id": "a01f07cea839477d847a1b4cfc751c23",
    "deepnote_cell_type": "text-cell-h3",
    "formattedRanges": [],
    "jp-MarkdownHeadingCollapsed": true
   },
   "source": [
    "### Distribusi Beta X~(α,β)"
   ]
  },
  {
   "cell_type": "code",
   "execution_count": 39,
   "metadata": {
    "cell_id": "891eea6e369c470eb4a5bd1d7308c134",
    "deepnote_cell_type": "code",
    "deepnote_to_be_reexecuted": false,
    "execution_millis": 57,
    "execution_start": 1699328707683,
    "source_hash": "28b1f5a6"
   },
   "outputs": [
    {
     "name": "stdout",
     "output_type": "stream",
     "text": [
      "[0.11328441 0.57530331 0.41537521 0.33247118 0.63702139 0.65971629\n",
      " 0.51064031 0.37509283 0.42389513 0.22693843 0.92583573 0.52838075\n",
      " 0.93388407 0.07027655 0.4718947  0.42887269 0.67276649 0.54198136\n",
      " 0.47969709 0.09918819 0.84899886 0.80631404 0.10109548 0.51533007\n",
      " 0.65163864 0.81644441 0.48437081 0.33216526 0.54275302 0.52091422\n",
      " 0.70771405 0.67900666 0.63081699 0.05763815 0.76681611 0.52151492\n",
      " 0.55146391 0.267458   0.17340856 0.55317547 0.71307264 0.25734015\n",
      " 0.82180103 0.68908266 0.71696224 0.60979509 0.89513601 0.3639005\n",
      " 0.87408494 0.56004476]\n"
     ]
    }
   ],
   "source": [
    "seed_value = 100 \n",
    "np.random.seed(seed_value)\n",
    "alpha_beta = 2\n",
    "beta_beta = 2\n",
    "X7 = np.random.beta(alpha_beta, beta_beta, size=50)\n",
    "print(X7)"
   ]
  },
  {
   "cell_type": "markdown",
   "metadata": {
    "cell_id": "7c067770ba4049d8bd1583a603ee87dc",
    "deepnote_cell_type": "text-cell-h3",
    "formattedRanges": []
   },
   "source": [
    "### "
   ]
  },
  {
   "cell_type": "markdown",
   "metadata": {
    "cell_id": "defd4b167d6045d2beb870b1efcbe640",
    "deepnote_cell_type": "text-cell-h3",
    "formattedRanges": []
   },
   "source": [
    "### Menggabungkan Semua Data"
   ]
  },
  {
   "cell_type": "code",
   "execution_count": 40,
   "metadata": {
    "cell_id": "109a7283ad5d4c159ab1d6b57b5dff31",
    "deepnote_cell_type": "code",
    "deepnote_to_be_reexecuted": false,
    "execution_millis": 7725,
    "execution_start": 1699328713173,
    "source_hash": "42443027"
   },
   "outputs": [
    {
     "name": "stdout",
     "output_type": "stream",
     "text": [
      "Requirement already satisfied: pandas in c:\\users\\nazia mahmudah\\appdata\\local\\programs\\python\\python39\\lib\\site-packages (2.1.2)\n",
      "Requirement already satisfied: openpyxl in c:\\users\\nazia mahmudah\\appdata\\local\\programs\\python\\python39\\lib\\site-packages (3.1.2)\n",
      "Requirement already satisfied: numpy<2,>=1.22.4 in c:\\users\\nazia mahmudah\\appdata\\local\\programs\\python\\python39\\lib\\site-packages (from pandas) (1.26.1)\n",
      "Requirement already satisfied: python-dateutil>=2.8.2 in c:\\users\\nazia mahmudah\\appdata\\local\\programs\\python\\python39\\lib\\site-packages (from pandas) (2.8.2)\n",
      "Requirement already satisfied: pytz>=2020.1 in c:\\users\\nazia mahmudah\\appdata\\local\\programs\\python\\python39\\lib\\site-packages (from pandas) (2023.3.post1)\n",
      "Requirement already satisfied: tzdata>=2022.1 in c:\\users\\nazia mahmudah\\appdata\\local\\programs\\python\\python39\\lib\\site-packages (from pandas) (2023.3)\n",
      "Requirement already satisfied: et-xmlfile in c:\\users\\nazia mahmudah\\appdata\\local\\programs\\python\\python39\\lib\\site-packages (from openpyxl) (1.1.0)\n",
      "Requirement already satisfied: six>=1.5 in c:\\users\\nazia mahmudah\\appdata\\local\\programs\\python\\python39\\lib\\site-packages (from python-dateutil>=2.8.2->pandas) (1.16.0)\n",
      "Note: you may need to restart the kernel to use updated packages.\n"
     ]
    }
   ],
   "source": [
    "pip install pandas openpyxl"
   ]
  },
  {
   "cell_type": "markdown",
   "metadata": {
    "cell_id": "f3fa2cd753734fc6af4175591ed4cc26",
    "deepnote_cell_type": "text-cell-h3",
    "formattedRanges": []
   },
   "source": [
    "### Eksport Data"
   ]
  },
  {
   "cell_type": "code",
   "execution_count": 41,
   "metadata": {
    "cell_id": "73426d5072dd4162bc377e2260d3fb46",
    "deepnote_cell_type": "code",
    "deepnote_to_be_reexecuted": false,
    "execution_millis": 1013,
    "execution_start": 1699328727650,
    "source_hash": "b5212cdb"
   },
   "outputs": [
    {
     "name": "stdout",
     "output_type": "stream",
     "text": [
      "          X1  X2  X3        X4         X5         X6        X7\n",
      "0  -1.749765   5   4  0.156792   0.227133   0.549194  0.113284\n",
      "1   0.342680   4   4  0.065248   3.154654   4.298726  0.575303\n",
      "2   1.153036   5   3  0.110509   5.160030   6.563308  0.415375\n",
      "3  -0.252436   7   5  0.372577   3.629778   4.845123  0.332471\n",
      "4   0.981321   1   6  0.000946   1.947448   2.867606  0.637021\n",
      "5   0.514219   3   2  0.025924   2.928687   4.036046  0.659716\n",
      "6   0.221180   6   4  0.222187   1.477151   2.285059  0.510640\n",
      "7  -1.070043   6   8  0.349571   3.405290   4.587894  0.375093\n",
      "8  -0.189496   3   4  0.029400   4.109157   5.389461  0.423895\n",
      "9   0.255001   5   7  0.171177   2.114969   3.070947  0.226938\n",
      "10 -0.458027   7   2  0.443873   1.509060   2.325221  0.925836\n",
      "11  0.435163   4   7  0.046943   0.655331   1.199356  0.528381\n",
      "12 -0.583595   4   3  0.040994   7.869152   9.504410  0.933884\n",
      "13  0.816847   3   6  0.022942   7.499199   9.108319  0.070277\n",
      "14  0.672721   4   5  0.049615   2.755068   3.832817  0.471895\n",
      "15 -0.104411   8   6  0.769095   4.999510   6.385499  0.428873\n",
      "16 -0.531280   6   4  0.333926   1.697152   2.559952  0.672766\n",
      "17  1.029733   4   7  0.037734   2.455686   3.479165  0.541981\n",
      "18 -0.438136   6   5  0.338808   1.051132   1.736993  0.479697\n",
      "19 -1.118318   4   5  0.064061   4.578798   5.917034  0.099188\n",
      "20  1.618982   5   6  0.113023   5.962136   7.444990  0.848999\n",
      "21  1.541605   7   5  0.562782   0.255259   0.596383  0.806314\n",
      "22 -0.251879   6   3  0.340365   1.343752   2.115947  0.101095\n",
      "23 -0.842436   4   2  0.081928   1.167095   1.888641  0.515330\n",
      "24  0.184519   4   6  0.038574   6.417921   7.941484  0.651639\n",
      "25  0.937082   4   6  0.093308   0.234839   0.562231  0.816444\n",
      "26  0.731000   1   6  0.001141   0.295249   0.661796  0.484371\n",
      "27  1.361556   4   4  0.058184   7.170599   8.755226  0.332165\n",
      "28 -0.326238   6   7  0.317596   0.834757   1.447605  0.542753\n",
      "29  0.055676   2   5  0.003075   0.962856   1.620039  0.520914\n",
      "30  0.222400   5   6  0.182681   2.576495   3.622392  0.707714\n",
      "31 -1.443217   5   6  0.185170   3.611222   4.823919  0.679007\n",
      "32 -0.756352   3   9  0.022219   2.165544   3.131974  0.630817\n",
      "33  0.816454   5   5  0.096235   0.890739   1.523392  0.057638\n",
      "34  0.750445   2   5  0.007432   2.885773   3.985931  0.766816\n",
      "35 -0.455947   7   7  0.442205   2.362724   3.368438  0.521515\n",
      "36  1.189622   8   7  0.791832   3.923993   5.179957  0.551464\n",
      "37 -1.690617   3   4  0.012363   4.312415   5.618434  0.267458\n",
      "38 -1.356399   7   2  0.442450   0.187852   0.481262  0.173409\n",
      "39 -1.232435   5   1  0.172030   3.216899   4.370747  0.553175\n",
      "40 -0.544439   6   3  0.271331  10.065950  11.829683  0.713073\n",
      "41 -0.668172   6   7  0.198950   1.334391   2.104002  0.257340\n",
      "42  0.007315   5   9  0.174379   3.825646   5.068306  0.821801\n",
      "43 -0.612939   2   7  0.004130   0.668195   1.217466  0.689083\n",
      "44  1.299748   4   6  0.047151   0.321523   0.703861  0.716962\n",
      "45 -1.733096   5   5  0.157353   4.885114   6.258477  0.609795\n",
      "46 -0.983310   6   5  0.293167   2.576514   3.622416  0.895136\n",
      "47  0.357508   4   2  0.057722   2.394968   3.406896  0.363900\n",
      "48 -1.613579   4   6  0.067345   1.292987   2.051044  0.874085\n",
      "49  1.470714   7   2  0.382643   0.583002   1.096473  0.560045\n"
     ]
    }
   ],
   "source": [
    "DataX = pd.DataFrame({'X1': X1, 'X2': X2, 'X3': X3, 'X4': X4, 'X5': X5, 'X6': X6, 'X7': X7})\n",
    "print(DataX)\n",
    "DataX.to_excel('DataX.xlsx', index=False)"
   ]
  },
  {
   "cell_type": "markdown",
   "metadata": {
    "cell_id": "6e26825bebae4c58b7ca9a21d6a326c1",
    "deepnote_cell_type": "text-cell-h3",
    "formattedRanges": [],
    "jp-MarkdownHeadingCollapsed": true
   },
   "source": [
    "### Import Data"
   ]
  },
  {
   "cell_type": "code",
   "execution_count": 42,
   "metadata": {
    "cell_id": "f5d2683157c14f2b825c952177cfbcff",
    "deepnote_cell_type": "code",
    "deepnote_to_be_reexecuted": false,
    "execution_millis": 840,
    "execution_start": 1699328732531,
    "source_hash": "5abf0e8d"
   },
   "outputs": [
    {
     "name": "stdout",
     "output_type": "stream",
     "text": [
      "          X1  X2  X3        X4         X5         X6        X7\n",
      "0  -1.749765   5   4  0.156792   0.227133   0.549194  0.113284\n",
      "1   0.342680   4   4  0.065248   3.154654   4.298726  0.575303\n",
      "2   1.153036   5   3  0.110509   5.160030   6.563308  0.415375\n",
      "3  -0.252436   7   5  0.372577   3.629778   4.845123  0.332471\n",
      "4   0.981321   1   6  0.000946   1.947448   2.867606  0.637021\n",
      "5   0.514219   3   2  0.025924   2.928687   4.036046  0.659716\n",
      "6   0.221180   6   4  0.222187   1.477151   2.285059  0.510640\n",
      "7  -1.070043   6   8  0.349571   3.405290   4.587894  0.375093\n",
      "8  -0.189496   3   4  0.029400   4.109157   5.389461  0.423895\n",
      "9   0.255001   5   7  0.171177   2.114969   3.070947  0.226938\n",
      "10 -0.458027   7   2  0.443873   1.509060   2.325221  0.925836\n",
      "11  0.435163   4   7  0.046943   0.655331   1.199356  0.528381\n",
      "12 -0.583595   4   3  0.040994   7.869152   9.504410  0.933884\n",
      "13  0.816847   3   6  0.022942   7.499199   9.108319  0.070277\n",
      "14  0.672721   4   5  0.049615   2.755068   3.832817  0.471895\n",
      "15 -0.104411   8   6  0.769095   4.999510   6.385499  0.428873\n",
      "16 -0.531280   6   4  0.333926   1.697152   2.559952  0.672766\n",
      "17  1.029733   4   7  0.037734   2.455686   3.479165  0.541981\n",
      "18 -0.438136   6   5  0.338808   1.051132   1.736993  0.479697\n",
      "19 -1.118318   4   5  0.064061   4.578798   5.917034  0.099188\n",
      "20  1.618982   5   6  0.113023   5.962136   7.444990  0.848999\n",
      "21  1.541605   7   5  0.562782   0.255259   0.596383  0.806314\n",
      "22 -0.251879   6   3  0.340365   1.343752   2.115947  0.101095\n",
      "23 -0.842436   4   2  0.081928   1.167095   1.888641  0.515330\n",
      "24  0.184519   4   6  0.038574   6.417921   7.941484  0.651639\n",
      "25  0.937082   4   6  0.093308   0.234839   0.562231  0.816444\n",
      "26  0.731000   1   6  0.001141   0.295249   0.661796  0.484371\n",
      "27  1.361556   4   4  0.058184   7.170599   8.755226  0.332165\n",
      "28 -0.326238   6   7  0.317596   0.834757   1.447605  0.542753\n",
      "29  0.055676   2   5  0.003075   0.962856   1.620039  0.520914\n",
      "30  0.222400   5   6  0.182681   2.576495   3.622392  0.707714\n",
      "31 -1.443217   5   6  0.185170   3.611222   4.823919  0.679007\n",
      "32 -0.756352   3   9  0.022219   2.165544   3.131974  0.630817\n",
      "33  0.816454   5   5  0.096235   0.890739   1.523392  0.057638\n",
      "34  0.750445   2   5  0.007432   2.885773   3.985931  0.766816\n",
      "35 -0.455947   7   7  0.442205   2.362724   3.368438  0.521515\n",
      "36  1.189622   8   7  0.791832   3.923993   5.179957  0.551464\n",
      "37 -1.690617   3   4  0.012363   4.312415   5.618434  0.267458\n",
      "38 -1.356399   7   2  0.442450   0.187852   0.481262  0.173409\n",
      "39 -1.232435   5   1  0.172030   3.216899   4.370747  0.553175\n",
      "40 -0.544439   6   3  0.271331  10.065950  11.829683  0.713073\n",
      "41 -0.668172   6   7  0.198950   1.334391   2.104002  0.257340\n",
      "42  0.007315   5   9  0.174379   3.825646   5.068306  0.821801\n",
      "43 -0.612939   2   7  0.004130   0.668195   1.217466  0.689083\n",
      "44  1.299748   4   6  0.047151   0.321523   0.703861  0.716962\n",
      "45 -1.733096   5   5  0.157353   4.885114   6.258477  0.609795\n",
      "46 -0.983310   6   5  0.293167   2.576514   3.622416  0.895136\n",
      "47  0.357508   4   2  0.057722   2.394968   3.406896  0.363900\n",
      "48 -1.613579   4   6  0.067345   1.292987   2.051044  0.874085\n",
      "49  1.470714   7   2  0.382643   0.583002   1.096473  0.560045\n"
     ]
    }
   ],
   "source": [
    "DataX = pd.read_excel('DataX.xlsx')\n",
    "print(DataX)"
   ]
  },
  {
   "cell_type": "markdown",
   "metadata": {
    "cell_id": "63644aaf1eb0475891626a33c7f7a6fb",
    "deepnote_cell_type": "text-cell-h2",
    "formattedRanges": [],
    "jp-MarkdownHeadingCollapsed": true
   },
   "source": [
    "## Statistika Deskriptif"
   ]
  },
  {
   "cell_type": "markdown",
   "metadata": {
    "cell_id": "1f87976b4df04a04b815db63d26a7617",
    "deepnote_cell_type": "text-cell-h3",
    "formattedRanges": []
   },
   "source": [
    "### Rata-rata Sampel"
   ]
  },
  {
   "cell_type": "code",
   "execution_count": 44,
   "metadata": {
    "cell_id": "fe475119fcf946689013819de92396a9",
    "deepnote_cell_type": "code",
    "deepnote_to_be_reexecuted": false,
    "execution_millis": 17,
    "execution_start": 1699328747862,
    "source_hash": "5ad75423"
   },
   "outputs": [
    {
     "name": "stdout",
     "output_type": "stream",
     "text": [
      "Rata Rata \n",
      "X1: -0.040800707873950154\n",
      "X2: 4.74\n",
      "X3: 5.02\n",
      "X4: 0.18542174698495453\n",
      "X5: 2.8390158580627247\n",
      "X6: 3.820830854473588\n",
      "X7: 0.5290554753855634\n"
     ]
    }
   ],
   "source": [
    "def rata_rata(data):\n",
    "    rata = {}\n",
    "    for column in data.columns:\n",
    "        rata[column] = sum(data[column]) / len(data[column])\n",
    "    return rata\n",
    "\n",
    "ratarata = rata_rata(DataX)\n",
    "print(\"Rata Rata \")\n",
    "for key, value in ratarata.items():\n",
    "    print(f\"{key}: {value}\")"
   ]
  },
  {
   "cell_type": "markdown",
   "metadata": {
    "cell_id": "87e9cc0b050a4c90928120c8c11ddda7",
    "deepnote_cell_type": "text-cell-h3",
    "formattedRanges": []
   },
   "source": [
    "### Varians Sampel"
   ]
  },
  {
   "cell_type": "code",
   "execution_count": 45,
   "metadata": {
    "cell_id": "c7e32b3df5384b93a44a766367741147",
    "deepnote_cell_type": "code",
    "deepnote_to_be_reexecuted": false,
    "execution_millis": 83,
    "execution_start": 1699328751684,
    "source_hash": "813323e7"
   },
   "outputs": [
    {
     "name": "stdout",
     "output_type": "stream",
     "text": [
      "Varians sampel tiap variabel \n",
      "X1: 0.9039746746712508\n",
      "X2: 2.849387755102041\n",
      "X3: 3.6118367346938784\n",
      "X4: 0.03659832781086262\n",
      "X5: 5.140586469401251\n",
      "X6: 6.955106327407805\n",
      "X7: 0.05546411256971485\n"
     ]
    }
   ],
   "source": [
    "def hitung_varians(data):\n",
    "    varians ={}\n",
    "    for column in data.columns :\n",
    "        rata = sum(data[column]) / len(data[column])\n",
    "        varians[column] = sum((data[column]-rata)**2)/(len(data[column])-1)\n",
    "    return varians\n",
    "\n",
    "varian_sampel = hitung_varians(DataX)\n",
    "print(\"Varians sampel tiap variabel \")\n",
    "for key, value in varian_sampel.items():\n",
    "    print(f\"{key}: {value}\")"
   ]
  },
  {
   "cell_type": "markdown",
   "metadata": {
    "cell_id": "6bfa305b5c134ba0bcf8afaabae48fb4",
    "deepnote_cell_type": "text-cell-h3",
    "formattedRanges": []
   },
   "source": [
    "### Korelasi"
   ]
  },
  {
   "cell_type": "code",
   "execution_count": 46,
   "metadata": {
    "cell_id": "0ed31b87b5d545668d7f8f03cff05dd5",
    "deepnote_cell_type": "code",
    "deepnote_to_be_reexecuted": false,
    "execution_millis": 160,
    "execution_start": 1699328755488,
    "source_hash": "86d26615"
   },
   "outputs": [
    {
     "name": "stdout",
     "output_type": "stream",
     "text": [
      "Matriks Korelasi:\n",
      "          X1        X2        X3        X4        X5        X6        X7\n",
      "X1       1.0 -0.103875  0.087194 -0.033482  0.007117  0.001127  0.112321\n",
      "X2 -0.103875       1.0 -0.100131  0.886369  -0.00267 -0.002818  -0.04805\n",
      "X3  0.087194 -0.100131       1.0 -0.011453 -0.071069 -0.063595  0.091705\n",
      "X4 -0.033482  0.886369 -0.011453       1.0 -0.069421 -0.069486 -0.000853\n",
      "X5  0.007117  -0.00267 -0.071069 -0.069421       1.0  0.998866  0.042302\n",
      "X6  0.001127 -0.002818 -0.063595 -0.069486  0.998866       1.0  0.042252\n",
      "X7  0.112321  -0.04805  0.091705 -0.000853  0.042302  0.042252       1.0\n"
     ]
    }
   ],
   "source": [
    "import pandas as pd\n",
    "\n",
    "def korelasi(data):\n",
    "    korel = {}\n",
    "    for col1 in data.columns:\n",
    "        for col2 in data.columns:\n",
    "            if col1 != col2:\n",
    "                mean_col1 = sum(data[col1]) / len(data[col1])\n",
    "                mean_col2 = sum(data[col2]) / len(data[col2])\n",
    "                covar = sum((data[col1] - mean_col1) * (data[col2] - mean_col2)) / (len(data) - 1)\n",
    "                std_dev_col1 = (sum((data[col1] - mean_col1) ** 2) / (len(data) - 1)) ** 0.5\n",
    "                std_dev_col2 = (sum((data[col2] - mean_col2) ** 2) / (len(data) - 1)) ** 0.5\n",
    "                korel[(col1, col2)] = covar / (std_dev_col1 * std_dev_col2)\n",
    "    \n",
    "    # Membuat matriks korelasi\n",
    "    matriks_korelasi = pd.DataFrame(index=data.columns, columns=data.columns)\n",
    "    for col1 in matriks_korelasi.columns:\n",
    "        for col2 in matriks_korelasi.columns:\n",
    "            if col1 == col2:\n",
    "                matriks_korelasi.loc[col1, col2] = 1.0\n",
    "            else:\n",
    "                matriks_korelasi.loc[col1, col2] = korel[(col1, col2)]\n",
    "\n",
    "    return matriks_korelasi\n",
    "\n",
    "matrikskorelasi = korelasi(DataX)\n",
    "\n",
    "print(\"Matriks Korelasi:\")\n",
    "print( matrikskorelasi)\n",
    "\n"
   ]
  },
  {
   "cell_type": "markdown",
   "metadata": {
    "cell_id": "35e0e56a5bb24f1a87ae1d5d654ca4ab",
    "deepnote_cell_type": "text-cell-h2",
    "formattedRanges": []
   },
   "source": [
    "## MAX MIN SORT MEDIAN"
   ]
  },
  {
   "cell_type": "markdown",
   "metadata": {
    "cell_id": "fe4277234bf04da0924cab99bfe261fe",
    "deepnote_cell_type": "text-cell-h3",
    "formattedRanges": []
   },
   "source": [
    "### Max Min"
   ]
  },
  {
   "cell_type": "code",
   "execution_count": null,
   "metadata": {
    "cell_id": "eec076621c274fa3bb7cf5745dec73dd",
    "deepnote_cell_type": "code"
   },
   "outputs": [],
   "source": [
    "data = pd.read_excel('max_min.xlsx')\n",
    "data"
   ]
  },
  {
   "cell_type": "code",
   "execution_count": null,
   "metadata": {
    "cell_id": "9e6b497fa9f540b1843d8825fa754f41",
    "deepnote_cell_type": "code"
   },
   "outputs": [],
   "source": [
    "def findmax(input):\n",
    "    max_value = input[0]\n",
    "    for value in input:\n",
    "        if value > max_value:\n",
    "            max_value = value\n",
    "    return max_value"
   ]
  },
  {
   "cell_type": "code",
   "execution_count": null,
   "metadata": {
    "cell_id": "c2bafef087224225addcb70f06199f37",
    "deepnote_cell_type": "code"
   },
   "outputs": [],
   "source": [
    "findmax(data['Value'])"
   ]
  },
  {
   "cell_type": "code",
   "execution_count": null,
   "metadata": {
    "cell_id": "0dc541889ffd41ad9b772bf51584e9fe",
    "deepnote_cell_type": "code"
   },
   "outputs": [],
   "source": [
    "def findmin(input):\n",
    "    min_value = input[0]\n",
    "    for value in input:\n",
    "        if value < min_value:\n",
    "            min_value = value\n",
    "    return min_value"
   ]
  },
  {
   "cell_type": "code",
   "execution_count": null,
   "metadata": {
    "cell_id": "fa53e21dd784427cb92daa789cb4205f",
    "deepnote_cell_type": "code"
   },
   "outputs": [],
   "source": [
    "findmin(data['Value'])"
   ]
  },
  {
   "cell_type": "code",
   "execution_count": null,
   "metadata": {
    "cell_id": "1661fce0d5d646a5a6b0abaae5f2df7d",
    "deepnote_cell_type": "code"
   },
   "outputs": [],
   "source": [
    "data['Value'].max()"
   ]
  },
  {
   "cell_type": "code",
   "execution_count": null,
   "metadata": {
    "cell_id": "ed0720cd1d2b4d81a64d88d67090772d",
    "deepnote_cell_type": "code"
   },
   "outputs": [],
   "source": [
    "data['Value'].min()"
   ]
  },
  {
   "cell_type": "code",
   "execution_count": null,
   "metadata": {
    "cell_id": "ebee88cdedaf4599aaec46fe4c2c5340",
    "deepnote_cell_type": "code"
   },
   "outputs": [],
   "source": [
    "len(data['Value'])"
   ]
  },
  {
   "cell_type": "markdown",
   "metadata": {
    "cell_id": "3ebf9d1221774cb7870206bee1adfaee",
    "deepnote_cell_type": "text-cell-h3",
    "formattedRanges": []
   },
   "source": [
    "### Sorting"
   ]
  },
  {
   "cell_type": "code",
   "execution_count": null,
   "metadata": {
    "cell_id": "b7eb5d55466747f3aa6971f0335c8415",
    "deepnote_cell_type": "code"
   },
   "outputs": [],
   "source": [
    "def sorting(input):\n",
    "    n = len(input)\n",
    "    for i in range(n-1):\n",
    "        for j in range(n - i - 1):\n",
    "            if input[j] > input[j+1]:\n",
    "                input[j], input[j+1] = input[j+1], input[j]"
   ]
  },
  {
   "cell_type": "code",
   "execution_count": null,
   "metadata": {
    "cell_id": "5e7c8219bfda4004a49c37c3a91e3bff",
    "deepnote_cell_type": "code"
   },
   "outputs": [],
   "source": [
    "sorting(data['Value'])\n",
    "data['Value']"
   ]
  },
  {
   "cell_type": "code",
   "execution_count": null,
   "metadata": {
    "cell_id": "1b043b9f32c34212a02cac3f41a71840",
    "deepnote_cell_type": "code"
   },
   "outputs": [],
   "source": [
    "data2 = [[10, 18, 11], [13, 15, 8], [9, 20, 3]]\n",
    "df = pd.DataFrame(data2)\n",
    "df"
   ]
  },
  {
   "cell_type": "code",
   "execution_count": null,
   "metadata": {
    "cell_id": "3f40ab19c580404bb931ca13206a6f7e",
    "deepnote_cell_type": "code"
   },
   "outputs": [],
   "source": [
    "df = df.set_axis([\"x1\",\"x2\",\"x3\"], axis = 1)\n",
    "df"
   ]
  },
  {
   "cell_type": "code",
   "execution_count": null,
   "metadata": {
    "cell_id": "3d7df53276e24ec3a1d53d86481df6dc",
    "deepnote_cell_type": "code"
   },
   "outputs": [],
   "source": [
    "df = df.set_axis(['y1','y2','y3'], axis = 0)\n",
    "df"
   ]
  },
  {
   "cell_type": "code",
   "execution_count": null,
   "metadata": {
    "cell_id": "ac316d27ba4a4a189e46e44e8bf39854",
    "deepnote_cell_type": "code"
   },
   "outputs": [],
   "source": [
    "df.max()"
   ]
  },
  {
   "cell_type": "markdown",
   "metadata": {
    "cell_id": "4a277945508d410990228a504240f825",
    "deepnote_cell_type": "text-cell-h3",
    "formattedRanges": []
   },
   "source": [
    "### Sorting, max, min, median data simultan"
   ]
  },
  {
   "cell_type": "markdown",
   "metadata": {
    "cell_id": "54b1930daf7d4016b2723be7a298c609",
    "deepnote_cell_type": "text-cell-bullet",
    "formattedRanges": []
   },
   "source": [
    "- Asceding (pengurutan data dari yang terkecil ke yang terbesar) elemen terkecil berada di indeks 0, dan elemen terbesar berada di indeks -1."
   ]
  },
  {
   "cell_type": "markdown",
   "metadata": {
    "cell_id": "5c456d3ae1bb41c886bacd63373de93d",
    "deepnote_cell_type": "text-cell-bullet",
    "formattedRanges": []
   },
   "source": [
    "-  Desceding (pengurutan data dari yang terbesar ke yang terkecil) elemen terkecil berada di indeks -1, dan elemen terbesar berada di indeks 0."
   ]
  },
  {
   "cell_type": "markdown",
   "metadata": {
    "cell_id": "569612ff581c49df9f91f6afe02424a8",
    "deepnote_cell_type": "text-cell-bullet",
    "formattedRanges": []
   },
   "source": [
    "- Median Genap : Me = [data ke (n ÷ 2) + data ke (n ÷ 2) + 1] ÷ 2"
   ]
  },
  {
   "cell_type": "markdown",
   "metadata": {
    "cell_id": "c7db26c578004eacbbc2965f27458ee3",
    "deepnote_cell_type": "text-cell-bullet",
    "formattedRanges": []
   },
   "source": [
    "- Median Ganjil : Me = data ke (n + 1) ÷ 2"
   ]
  },
  {
   "cell_type": "code",
   "execution_count": 49,
   "metadata": {
    "cell_id": "274b8e5ab4b9402083bf6789485f8e94",
    "deepnote_cell_type": "code",
    "deepnote_to_be_reexecuted": false,
    "execution_millis": 32,
    "execution_start": 1699330860574,
    "source_hash": "c044c38a"
   },
   "outputs": [
    {
     "name": "stdout",
     "output_type": "stream",
     "text": [
      "Hasil sorting manual:\n",
      "X1: [-1.749765473054697, -1.733095623653281, -1.690616826383604, -1.613578502822176, -1.443216995225337, -1.356399048861313, -1.232434513914926, -1.118318246255436, -1.070043330568293, -0.98331009912963, -0.8424357382512976, -0.7563523055944354, -0.6681717368134277, -0.6129387354781626, -0.5835950503226648, -0.5444391616724643, -0.5312803768519098, -0.4580269855026243, -0.4559469274680022, -0.4381356227044174, -0.3262380592023025, -0.2524360365213899, -0.251879139213213, -0.1894958308231753, -0.1044111433906277, 0.007314563228903049, 0.0556760148547769, 0.1845186905639428, 0.2211796692214004, 0.2223996085553049, 0.2550014442733817, 0.3426804033275022, 0.3575077531673654, 0.4351634881228921, 0.5142188413943821, 0.672720805709661, 0.7310003438348087, 0.7504447615341785, 0.8164540110192858, 0.816847071685779, 0.9370822011089522, 0.9813207869512316, 1.029732685133346, 1.153035802563644, 1.189622268029126, 1.299748074755309, 1.361556125145331, 1.470713866612129, 1.541605174513407, 1.61898166067526] \n",
      "\n",
      "X2: [1, 1, 2, 2, 2, 3, 3, 3, 3, 3, 4, 4, 4, 4, 4, 4, 4, 4, 4, 4, 4, 4, 4, 5, 5, 5, 5, 5, 5, 5, 5, 5, 5, 6, 6, 6, 6, 6, 6, 6, 6, 6, 7, 7, 7, 7, 7, 7, 8, 8] \n",
      "\n",
      "X3: [1, 2, 2, 2, 2, 2, 2, 3, 3, 3, 3, 4, 4, 4, 4, 4, 4, 4, 5, 5, 5, 5, 5, 5, 5, 5, 5, 5, 6, 6, 6, 6, 6, 6, 6, 6, 6, 6, 6, 7, 7, 7, 7, 7, 7, 7, 7, 8, 9, 9] \n",
      "\n",
      "X4: [0.000946005028630547, 0.001140949706370976, 0.003074505075147853, 0.004130180329323534, 0.007431588197534102, 0.01236273831979097, 0.02221931719135633, 0.02294235172641754, 0.02592361098186427, 0.02940013138084441, 0.03773417729465093, 0.03857390722782433, 0.04099399404608726, 0.04694257423921824, 0.04715119534217396, 0.04961472090342876, 0.05772189490814356, 0.05818449095016737, 0.06406136985283545, 0.0652483769423151, 0.0673452470891588, 0.08192834865997535, 0.09330818109270854, 0.09623506253489401, 0.1105093234630767, 0.1130226384844032, 0.1567916735930169, 0.1573531048638661, 0.1711771465650775, 0.1720300530211071, 0.1743792775114982, 0.1826806693413711, 0.1851695202453316, 0.1989499045121789, 0.2221870316979002, 0.2713313369399176, 0.2931672538011468, 0.317596456374386, 0.3339258715244219, 0.3388083456861049, 0.3403647909940068, 0.3495708205188272, 0.3725773792916813, 0.3826432174323175, 0.4422046831785424, 0.4424500808676671, 0.4438730953695895, 0.5627815668017175, 0.7690952819959942, 0.7918319061517197] \n",
      "\n",
      "X5: [0.1878518648223113, 0.2271331110253187, 0.2348389268832094, 0.255258805979048, 0.2952492463704779, 0.3215231966375588, 0.5830022606528237, 0.6553313819842992, 0.6681952905399599, 0.8347568176615672, 0.8907392209729391, 0.9628559327150489, 1.051131558414535, 1.167095341369403, 1.292986659575931, 1.334390746314081, 1.343752375998179, 1.47715139839117, 1.509059518010268, 1.697151553710153, 1.947448015016421, 2.114969214925639, 2.165544083308144, 2.362724089504863, 2.394967828765052, 2.4556856533419, 2.576494617427425, 2.576514285007863, 2.755068198557869, 2.885772542700214, 2.928687061598725, 3.15465387687234, 3.216899457344955, 3.405290073951777, 3.611221543776959, 3.629778410329762, 3.825645705182546, 3.923993116838025, 4.109156966065821, 4.31241506528155, 4.578797666576277, 4.885114114309609, 4.999509680529602, 5.160029762750042, 5.962135529346623, 6.417921192649236, 7.170599063939316, 7.499199087091684, 7.869151702061799, 10.06595009005588] \n",
      "\n",
      "X6: [0.4812619738433839, 0.5491936927597729, 0.5622310387189532, 0.5963825504517046, 0.6617958247647603, 0.7038609809029385, 1.096473369357187, 1.199356455517638, 1.217465701324352, 1.447605224402556, 1.523391819260085, 1.620039342029878, 1.736992855137941, 1.88864082083034, 2.051043845816522, 2.104002310509531, 2.1159472454219, 2.285058544779036, 2.32522145548386, 2.559952208692417, 2.867605887406123, 3.070947401158935, 3.131974329475119, 3.368438053614646, 3.406895971976871, 3.479164633829883, 3.622392461732669, 3.622415720031209, 3.832817106729347, 3.98593089069426, 4.036046136865497, 4.298725826798492, 4.370746728700507, 4.587893705825786, 4.823919317279483, 4.845122988908636, 5.068305782921176, 5.179956589198488, 5.389461303877146, 5.618433985754727, 5.917034113582099, 6.2584774968314, 6.3854989891435, 6.563308283055154, 7.44499046590961, 7.941483634261674, 8.755226433396002, 9.108318975108737, 9.504409524304103, 11.82968272530328] \n",
      "\n",
      "X7: [0.05763815051680954, 0.0702765488518677, 0.09918819263268427, 0.1010954843913286, 0.1132844079907116, 0.1734085564983491, 0.2269384289128541, 0.2573401531674976, 0.2674580041850504, 0.332165263881073, 0.3324711799908038, 0.3639004983796663, 0.3750928304397838, 0.4153752068215914, 0.4238951282855501, 0.428872691005059, 0.471894703918085, 0.4796970949738897, 0.4843708107584904, 0.5106403139445101, 0.5153300747994553, 0.5209142206172611, 0.5215149222881765, 0.5283807498837564, 0.5419813611307502, 0.5427530209116593, 0.5514639102270376, 0.5531754687096331, 0.5600447645663527, 0.5753033109104561, 0.6097950919654289, 0.630816985857274, 0.6370213888921293, 0.6516386426510226, 0.6597162877932113, 0.6727664869767616, 0.6790066627334095, 0.6890826561722811, 0.707714045366631, 0.7130726387025048, 0.7169622360828778, 0.7668161059700901, 0.8063140372863105, 0.8164444137823264, 0.8218010297622969, 0.8489988610262286, 0.8740849424911594, 0.8951360051197218, 0.9258357311321985, 0.9338840659241113] \n",
      "\n"
     ]
    }
   ],
   "source": [
    "def sortmanual(data):\n",
    "    sorted_data = {}\n",
    "    for column in data.columns:\n",
    "        data_list = list(data[column])\n",
    "        n = len(data_list)\n",
    "\n",
    "        for i in range(n - 1):\n",
    "            for j in range(0, n - i - 1):\n",
    "                if data_list[j] > data_list[j + 1]:\n",
    "                    data_list[j], data_list[j + 1] = data_list[j + 1], data_list[j]\n",
    "\n",
    "        sorted_data[column] = data_list\n",
    "\n",
    "    return sorted_data\n",
    "\n",
    "hasilsortmanual = sortmanual(DataX)\n",
    "print(\"Hasil sorting manual:\")\n",
    "for key, value in hasilsortmanual.items():\n",
    "    print(f\"{key}: {value}\", \"\\n\")"
   ]
  },
  {
   "cell_type": "code",
   "execution_count": 50,
   "metadata": {},
   "outputs": [
    {
     "name": "stdout",
     "output_type": "stream",
     "text": [
      "\n",
      "X1\n",
      "Nilai Minimum: -1.749765473054697\n",
      "Nilai Maksimum: 1.61898166067526\n",
      "Median: 0.03149528904183997\n",
      "\n",
      "X2\n",
      "Nilai Minimum: 1\n",
      "Nilai Maksimum: 8\n",
      "Median: 5.0\n",
      "\n",
      "X3\n",
      "Nilai Minimum: 1\n",
      "Nilai Maksimum: 9\n",
      "Median: 5.0\n",
      "\n",
      "X4\n",
      "Nilai Minimum: 0.000946005028630547\n",
      "Nilai Maksimum: 0.7918319061517197\n",
      "Median: 0.13490715603871006\n",
      "\n",
      "X5\n",
      "Nilai Minimum: 0.1878518648223113\n",
      "Nilai Maksimum: 10.06595009005588\n",
      "Median: 2.5160901353846628\n",
      "\n",
      "X6\n",
      "Nilai Minimum: 0.4812619738433839\n",
      "Nilai Maksimum: 11.82968272530328\n",
      "Median: 3.550778547781276\n",
      "\n",
      "X7\n",
      "Nilai Minimum: 0.05763815051680954\n",
      "Nilai Maksimum: 0.9338840659241113\n",
      "Median: 0.5471084655693484\n"
     ]
    }
   ],
   "source": [
    "\n",
    "# Maksimum dan Minimum\n",
    "for column in hasilsortmanual:\n",
    "    min_value = hasilsortmanual[column][0]\n",
    "    max_value = hasilsortmanual[column][-1]\n",
    "\n",
    "# Median\n",
    "    n = len(hasilsortmanual[column])\n",
    "    if n % 2 == 0:\n",
    "        median_value = (hasilsortmanual[column][n // 2 + 1] + hasilsortmanual[column][n // 2]) / 2\n",
    "    else:\n",
    "        median_value = hasilsortmanual[column][n // 2 + 1]\n",
    "\n",
    "    print(f\"\\n{column}\")\n",
    "    print(f\"Nilai Minimum: {min_value}\")\n",
    "    print(f\"Nilai Maksimum: {max_value}\")\n",
    "    print(f\"Median: {median_value}\")"
   ]
  },
  {
   "cell_type": "code",
   "execution_count": 63,
   "metadata": {
    "cell_id": "9a20c1836bcb4b7da9cfc85fd38657d0",
    "deepnote_cell_type": "code",
    "deepnote_to_be_reexecuted": false,
    "execution_millis": 30,
    "execution_start": 1699330110986,
    "source_hash": "e66c174b"
   },
   "outputs": [
    {
     "name": "stdout",
     "output_type": "stream",
     "text": [
      "          X1  X2  X3        X4         X5         X6        X7\n",
      "0  -1.749765   5   4  0.156792   0.227133   0.549194  0.113284\n",
      "45 -1.733096   5   5  0.157353   4.885114   6.258477  0.609795\n",
      "37 -1.690617   3   4  0.012363   4.312415   5.618434  0.267458\n",
      "48 -1.613579   4   6  0.067345   1.292987   2.051044  0.874085\n",
      "31 -1.443217   5   6  0.185170   3.611222   4.823919  0.679007\n",
      "38 -1.356399   7   2  0.442450   0.187852   0.481262  0.173409\n",
      "39 -1.232435   5   1  0.172030   3.216899   4.370747  0.553175\n",
      "19 -1.118318   4   5  0.064061   4.578798   5.917034  0.099188\n",
      "7  -1.070043   6   8  0.349571   3.405290   4.587894  0.375093\n",
      "46 -0.983310   6   5  0.293167   2.576514   3.622416  0.895136\n",
      "23 -0.842436   4   2  0.081928   1.167095   1.888641  0.515330\n",
      "32 -0.756352   3   9  0.022219   2.165544   3.131974  0.630817\n",
      "41 -0.668172   6   7  0.198950   1.334391   2.104002  0.257340\n",
      "43 -0.612939   2   7  0.004130   0.668195   1.217466  0.689083\n",
      "12 -0.583595   4   3  0.040994   7.869152   9.504410  0.933884\n",
      "40 -0.544439   6   3  0.271331  10.065950  11.829683  0.713073\n",
      "16 -0.531280   6   4  0.333926   1.697152   2.559952  0.672766\n",
      "10 -0.458027   7   2  0.443873   1.509060   2.325221  0.925836\n",
      "35 -0.455947   7   7  0.442205   2.362724   3.368438  0.521515\n",
      "18 -0.438136   6   5  0.338808   1.051132   1.736993  0.479697\n",
      "28 -0.326238   6   7  0.317596   0.834757   1.447605  0.542753\n",
      "3  -0.252436   7   5  0.372577   3.629778   4.845123  0.332471\n",
      "22 -0.251879   6   3  0.340365   1.343752   2.115947  0.101095\n",
      "8  -0.189496   3   4  0.029400   4.109157   5.389461  0.423895\n",
      "15 -0.104411   8   6  0.769095   4.999510   6.385499  0.428873\n",
      "42  0.007315   5   9  0.174379   3.825646   5.068306  0.821801\n",
      "29  0.055676   2   5  0.003075   0.962856   1.620039  0.520914\n",
      "24  0.184519   4   6  0.038574   6.417921   7.941484  0.651639\n",
      "6   0.221180   6   4  0.222187   1.477151   2.285059  0.510640\n",
      "30  0.222400   5   6  0.182681   2.576495   3.622392  0.707714\n",
      "9   0.255001   5   7  0.171177   2.114969   3.070947  0.226938\n",
      "1   0.342680   4   4  0.065248   3.154654   4.298726  0.575303\n",
      "47  0.357508   4   2  0.057722   2.394968   3.406896  0.363900\n",
      "11  0.435163   4   7  0.046943   0.655331   1.199356  0.528381\n",
      "5   0.514219   3   2  0.025924   2.928687   4.036046  0.659716\n",
      "14  0.672721   4   5  0.049615   2.755068   3.832817  0.471895\n",
      "26  0.731000   1   6  0.001141   0.295249   0.661796  0.484371\n",
      "34  0.750445   2   5  0.007432   2.885773   3.985931  0.766816\n",
      "33  0.816454   5   5  0.096235   0.890739   1.523392  0.057638\n",
      "13  0.816847   3   6  0.022942   7.499199   9.108319  0.070277\n",
      "25  0.937082   4   6  0.093308   0.234839   0.562231  0.816444\n",
      "4   0.981321   1   6  0.000946   1.947448   2.867606  0.637021\n",
      "17  1.029733   4   7  0.037734   2.455686   3.479165  0.541981\n",
      "2   1.153036   5   3  0.110509   5.160030   6.563308  0.415375\n",
      "36  1.189622   8   7  0.791832   3.923993   5.179957  0.551464\n",
      "44  1.299748   4   6  0.047151   0.321523   0.703861  0.716962\n",
      "27  1.361556   4   4  0.058184   7.170599   8.755226  0.332165\n",
      "49  1.470714   7   2  0.382643   0.583002   1.096473  0.560045\n",
      "21  1.541605   7   5  0.562782   0.255259   0.596383  0.806314\n",
      "20  1.618982   5   6  0.113023   5.962136   7.444990  0.848999\n"
     ]
    }
   ],
   "source": [
    "sorted_data = DataX.sort_values(by=list(DataX.columns))\n",
    "print(sorted_data)"
   ]
  },
  {
   "cell_type": "markdown",
   "metadata": {
    "cell_id": "3f4d7c79209444268e84e04ccd1f1a84",
    "deepnote_cell_type": "text-cell-h3",
    "formattedRanges": []
   },
   "source": [
    "### Median "
   ]
  },
  {
   "cell_type": "markdown",
   "metadata": {
    "cell_id": "5c020049136b42d78a6987a815894c28",
    "deepnote_cell_type": "text-cell-p",
    "formattedRanges": []
   },
   "source": [
    "Genap : Me = [data ke (n ÷ 2) + data ke (n ÷ 2) + 1] ÷ 2"
   ]
  },
  {
   "cell_type": "markdown",
   "metadata": {
    "cell_id": "91cffa6951644e96b47322f0c2c245c5",
    "deepnote_cell_type": "text-cell-p",
    "formattedRanges": []
   },
   "source": [
    "Ganjil : Me = data ke (n + 1) ÷ 2"
   ]
  },
  {
   "cell_type": "code",
   "execution_count": 52,
   "metadata": {
    "cell_id": "e0e3bb7a9c764bab9bddb09a36c5c644",
    "deepnote_cell_type": "code",
    "deepnote_to_be_reexecuted": false,
    "execution_millis": 17,
    "execution_start": 1699329857705,
    "source_hash": "bf506db5"
   },
   "outputs": [
    {
     "name": "stdout",
     "output_type": "stream",
     "text": [
      "Median:\n",
      "X1: 0.03149528904183997 \n",
      "\n",
      "X2: 5.0 \n",
      "\n",
      "X3: 5.0 \n",
      "\n",
      "X4: 0.13490715603871006 \n",
      "\n",
      "X5: 2.5160901353846628 \n",
      "\n",
      "X6: 3.550778547781276 \n",
      "\n",
      "X7: 0.5471084655693484 \n",
      "\n"
     ]
    }
   ],
   "source": [
    "def nilaimedian(data):\n",
    "     mediandata= {}\n",
    "     for column in data.columns:\n",
    "        urutkandata = sorted(data[column])\n",
    "        n = len(urutkandata)\n",
    "        if n % 2 == 0:\n",
    "            median = (urutkandata[n // 2] + urutkandata[(n // 2)+1]) / 2\n",
    "        else:\n",
    "            median = urutkandata[(n // 2)+1]\n",
    "        mediandata[column] = median\n",
    "     return mediandata\n",
    "hasilmedian = nilaimedian(DataX)\n",
    "\n",
    "print(\"Median:\")\n",
    "for key, value in hasilmedian.items():\n",
    "    print(f\"{key}: {value}\", \"\\n\")"
   ]
  },
  {
   "cell_type": "code",
   "execution_count": null,
   "metadata": {
    "cell_id": "aa599e5d3a564690893f8f4fa4d0ccc6",
    "deepnote_cell_type": "code"
   },
   "outputs": [],
   "source": []
  },
  {
   "cell_type": "markdown",
   "metadata": {
    "created_in_deepnote_cell": true,
    "deepnote_cell_type": "markdown"
   },
   "source": [
    "<a style='text-decoration:none;line-height:16px;display:flex;color:#5B5B62;padding:10px;justify-content:end;' href='https://deepnote.com?utm_source=created-in-deepnote-cell&projectId=235be482-bea5-41e0-a131-c60cdaf79d4f' target=\"_blank\">\n",
    "<img alt='Created in deepnote.com' style='display:inline;max-height:16px;margin:0px;margin-right:7.5px;' src='data:image/svg+xml;base64,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' > </img>\n",
    "Created in <span style='font-weight:600;margin-left:4px;'>Deepnote</span></a>"
   ]
  }
 ],
 "metadata": {
  "deepnote": {},
  "deepnote_execution_queue": [],
  "deepnote_notebook_id": "b27ce2cb40054064954833bbb4e35f17",
  "deepnote_persisted_session": {
   "createdAt": "2023-11-07T03:31:33.141Z"
  },
  "kernelspec": {
   "display_name": "Python 3 (ipykernel)",
   "language": "python",
   "name": "python3"
  },
  "language_info": {
   "codemirror_mode": {
    "name": "ipython",
    "version": 3
   },
   "file_extension": ".py",
   "mimetype": "text/x-python",
   "name": "python",
   "nbconvert_exporter": "python",
   "pygments_lexer": "ipython3",
   "version": "3.9.2"
  }
 },
 "nbformat": 4,
 "nbformat_minor": 4
}
