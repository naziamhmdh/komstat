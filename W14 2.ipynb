{
 "cells": [
  {
   "cell_type": "code",
   "execution_count": 2,
   "metadata": {},
   "outputs": [
    {
     "name": "stdout",
     "output_type": "stream",
     "text": [
      "Collecting astropy\n",
      "  Downloading astropy-5.3.4-cp39-cp39-win_amd64.whl.metadata (9.6 kB)\n",
      "Requirement already satisfied: numpy<2,>=1.21 in c:\\users\\darre\\appdata\\local\\programs\\python\\python39\\lib\\site-packages (from astropy) (1.23.5)\n",
      "Collecting pyerfa>=2.0 (from astropy)\n",
      "  Downloading pyerfa-2.0.1.1-cp39-abi3-win_amd64.whl.metadata (5.7 kB)\n",
      "Collecting PyYAML>=3.13 (from astropy)\n",
      "  Downloading PyYAML-6.0.1-cp39-cp39-win_amd64.whl.metadata (2.1 kB)\n",
      "Requirement already satisfied: packaging>=19.0 in c:\\users\\darre\\appdata\\local\\programs\\python\\python39\\lib\\site-packages (from astropy) (23.0)\n",
      "Downloading astropy-5.3.4-cp39-cp39-win_amd64.whl (6.9 MB)\n",
      "   ---------------------------------------- 0.0/6.9 MB ? eta -:--:--\n",
      "   ---------------------------------------- 0.1/6.9 MB 1.1 MB/s eta 0:00:07\n",
      "   - -------------------------------------- 0.2/6.9 MB 1.8 MB/s eta 0:00:04\n",
      "   - -------------------------------------- 0.3/6.9 MB 1.7 MB/s eta 0:00:04\n",
      "   - -------------------------------------- 0.3/6.9 MB 1.8 MB/s eta 0:00:04\n",
      "   -- ------------------------------------- 0.5/6.9 MB 2.0 MB/s eta 0:00:04\n",
      "   --- ------------------------------------ 0.6/6.9 MB 2.2 MB/s eta 0:00:03\n",
      "   ---- ----------------------------------- 0.7/6.9 MB 2.1 MB/s eta 0:00:03\n",
      "   ---- ----------------------------------- 0.8/6.9 MB 2.1 MB/s eta 0:00:03\n",
      "   ---- ----------------------------------- 0.8/6.9 MB 1.9 MB/s eta 0:00:04\n",
      "   ----- ---------------------------------- 1.0/6.9 MB 2.0 MB/s eta 0:00:03\n",
      "   ----- ---------------------------------- 1.0/6.9 MB 1.9 MB/s eta 0:00:04\n",
      "   ------- -------------------------------- 1.2/6.9 MB 2.1 MB/s eta 0:00:03\n",
      "   ------- -------------------------------- 1.3/6.9 MB 2.1 MB/s eta 0:00:03\n",
      "   -------- ------------------------------- 1.5/6.9 MB 2.2 MB/s eta 0:00:03\n",
      "   -------- ------------------------------- 1.6/6.9 MB 2.2 MB/s eta 0:00:03\n",
      "   ---------- ----------------------------- 1.8/6.9 MB 2.3 MB/s eta 0:00:03\n",
      "   ----------- ---------------------------- 1.9/6.9 MB 2.4 MB/s eta 0:00:03\n",
      "   ----------- ---------------------------- 2.0/6.9 MB 2.3 MB/s eta 0:00:03\n",
      "   ------------ --------------------------- 2.2/6.9 MB 2.5 MB/s eta 0:00:02\n",
      "   ------------- -------------------------- 2.3/6.9 MB 2.4 MB/s eta 0:00:02\n",
      "   -------------- ------------------------- 2.4/6.9 MB 2.5 MB/s eta 0:00:02\n",
      "   -------------- ------------------------- 2.6/6.9 MB 2.4 MB/s eta 0:00:02\n",
      "   --------------- ------------------------ 2.7/6.9 MB 2.5 MB/s eta 0:00:02\n",
      "   --------------- ------------------------ 2.7/6.9 MB 2.5 MB/s eta 0:00:02\n",
      "   ---------------- ----------------------- 2.9/6.9 MB 2.5 MB/s eta 0:00:02\n",
      "   ----------------- ---------------------- 3.0/6.9 MB 2.4 MB/s eta 0:00:02\n",
      "   ------------------ --------------------- 3.2/6.9 MB 2.5 MB/s eta 0:00:02\n",
      "   ------------------- -------------------- 3.4/6.9 MB 2.6 MB/s eta 0:00:02\n",
      "   ------------------- -------------------- 3.5/6.9 MB 2.5 MB/s eta 0:00:02\n",
      "   -------------------- ------------------- 3.6/6.9 MB 2.6 MB/s eta 0:00:02\n",
      "   --------------------- ------------------ 3.7/6.9 MB 2.5 MB/s eta 0:00:02\n",
      "   ---------------------- ----------------- 3.9/6.9 MB 2.6 MB/s eta 0:00:02\n",
      "   ----------------------- ---------------- 4.1/6.9 MB 2.6 MB/s eta 0:00:02\n",
      "   ------------------------ --------------- 4.2/6.9 MB 2.6 MB/s eta 0:00:02\n",
      "   ------------------------ --------------- 4.3/6.9 MB 2.6 MB/s eta 0:00:01\n",
      "   ------------------------- -------------- 4.4/6.9 MB 2.6 MB/s eta 0:00:01\n",
      "   -------------------------- ------------- 4.6/6.9 MB 2.7 MB/s eta 0:00:01\n",
      "   -------------------------- ------------- 4.7/6.9 MB 2.6 MB/s eta 0:00:01\n",
      "   --------------------------- ------------ 4.8/6.9 MB 2.6 MB/s eta 0:00:01\n",
      "   ----------------------------- ---------- 5.0/6.9 MB 2.7 MB/s eta 0:00:01\n",
      "   ----------------------------- ---------- 5.0/6.9 MB 2.7 MB/s eta 0:00:01\n",
      "   ----------------------------- ---------- 5.1/6.9 MB 2.5 MB/s eta 0:00:01\n",
      "   ----------------------------- ---------- 5.1/6.9 MB 2.5 MB/s eta 0:00:01\n",
      "   ------------------------------- -------- 5.4/6.9 MB 2.5 MB/s eta 0:00:01\n",
      "   ------------------------------- -------- 5.5/6.9 MB 2.5 MB/s eta 0:00:01\n",
      "   -------------------------------- ------- 5.6/6.9 MB 2.5 MB/s eta 0:00:01\n",
      "   --------------------------------- ------ 5.8/6.9 MB 2.5 MB/s eta 0:00:01\n",
      "   --------------------------------- ------ 5.9/6.9 MB 2.5 MB/s eta 0:00:01\n",
      "   ---------------------------------- ----- 6.0/6.9 MB 2.5 MB/s eta 0:00:01\n",
      "   ----------------------------------- ---- 6.2/6.9 MB 2.5 MB/s eta 0:00:01\n",
      "   ------------------------------------ --- 6.4/6.9 MB 2.5 MB/s eta 0:00:01\n",
      "   ------------------------------------- -- 6.6/6.9 MB 2.5 MB/s eta 0:00:01\n",
      "   -------------------------------------- - 6.7/6.9 MB 2.5 MB/s eta 0:00:01\n",
      "   ---------------------------------------  6.9/6.9 MB 2.5 MB/s eta 0:00:01\n",
      "   ---------------------------------------  6.9/6.9 MB 2.5 MB/s eta 0:00:01\n",
      "   ---------------------------------------- 6.9/6.9 MB 2.5 MB/s eta 0:00:00\n",
      "Downloading pyerfa-2.0.1.1-cp39-abi3-win_amd64.whl (348 kB)\n",
      "   ---------------------------------------- 0.0/348.7 kB ? eta -:--:--\n",
      "   ------------------- ------------------- 174.1/348.7 kB 10.2 MB/s eta 0:00:01\n",
      "   ------------------------------------- -- 327.7/348.7 kB 3.4 MB/s eta 0:00:01\n",
      "   ---------------------------------------- 348.7/348.7 kB 3.1 MB/s eta 0:00:00\n",
      "Downloading PyYAML-6.0.1-cp39-cp39-win_amd64.whl (152 kB)\n",
      "   ---------------------------------------- 0.0/152.8 kB ? eta -:--:--\n",
      "   ---------------------------------------- 152.8/152.8 kB 4.6 MB/s eta 0:00:00\n",
      "Installing collected packages: PyYAML, pyerfa, astropy\n",
      "Successfully installed PyYAML-6.0.1 astropy-5.3.4 pyerfa-2.0.1.1\n",
      "Note: you may need to restart the kernel to use updated packages.\n"
     ]
    }
   ],
   "source": [
    "pip install astropy"
   ]
  },
  {
   "cell_type": "code",
   "execution_count": 43,
   "metadata": {},
   "outputs": [],
   "source": [
    "import numpy as np\n",
    "import pandas as pd\n",
    "from astropy.stats import jackknife_resampling\n",
    "from astropy.stats import jackknife_stats\n",
    "import scipy.stats as st\n",
    "from scipy.stats import linregress\n",
    "from scipy.stats import f\n"
   ]
  },
  {
   "cell_type": "code",
   "execution_count": 5,
   "metadata": {},
   "outputs": [
    {
     "data": {
      "text/plain": [
       "array([1, 2, 3, 4, 5, 6, 7, 8, 9, 0])"
      ]
     },
     "execution_count": 5,
     "metadata": {},
     "output_type": "execute_result"
    }
   ],
   "source": [
    "data = np.array([1,2,3,4,5,6,7,8,9,0])\n",
    "data"
   ]
  },
  {
   "cell_type": "code",
   "execution_count": 15,
   "metadata": {},
   "outputs": [],
   "source": [
    "def jack_mean(data):\n",
    "    n = data.shape[0]\n",
    "    resamples = np.empty([n,n-1])\n",
    "    mean = np.empty([n,1])\n",
    "\n",
    "    for i in range(n):\n",
    "        resamples[i] = np.delete(data,i)\n",
    "        mean[i] = np.mean(resamples[i])\n",
    "    \n",
    "    rata_jack = np.mean(mean)\n",
    "\n",
    "    return rata_jack"
   ]
  },
  {
   "cell_type": "code",
   "execution_count": 16,
   "metadata": {},
   "outputs": [
    {
     "data": {
      "text/plain": [
       "4.5"
      ]
     },
     "execution_count": 16,
     "metadata": {},
     "output_type": "execute_result"
    }
   ],
   "source": [
    "jack_mean(data)"
   ]
  },
  {
   "cell_type": "code",
   "execution_count": 14,
   "metadata": {},
   "outputs": [
    {
     "data": {
      "text/plain": [
       "4.5"
      ]
     },
     "execution_count": 14,
     "metadata": {},
     "output_type": "execute_result"
    }
   ],
   "source": [
    "np.mean(data)"
   ]
  },
  {
   "cell_type": "code",
   "execution_count": 39,
   "metadata": {},
   "outputs": [],
   "source": [
    "def jack_reg(y,x):\n",
    "    n = len(y)\n",
    "    b0 = np.empty([n,1])\n",
    "    b1 = np.empty([n,1])\n",
    "    new_y = np.empty([n,n-1])\n",
    "    new_x = np.empty([n,n-1])\n",
    "\n",
    "    for i in range(n):\n",
    "        new_y[i] = np.delete(y,i)\n",
    "        new_x[i] = np.delete(x,i)\n",
    "        reg = st.linregress(new_x[i],new_y[i])\n",
    "        b0[i] = reg[0]\n",
    "        b1[i] = reg[1]\n",
    "    \n",
    "    jack_b0 = np.mean(b0)\n",
    "    jack_b1 = np.mean(b1)\n",
    "\n",
    "    return jack_b0, jack_b1\n"
   ]
  },
  {
   "cell_type": "code",
   "execution_count": 32,
   "metadata": {},
   "outputs": [
    {
     "data": {
      "text/html": [
       "<div>\n",
       "<style scoped>\n",
       "    .dataframe tbody tr th:only-of-type {\n",
       "        vertical-align: middle;\n",
       "    }\n",
       "\n",
       "    .dataframe tbody tr th {\n",
       "        vertical-align: top;\n",
       "    }\n",
       "\n",
       "    .dataframe thead th {\n",
       "        text-align: right;\n",
       "    }\n",
       "</style>\n",
       "<table border=\"1\" class=\"dataframe\">\n",
       "  <thead>\n",
       "    <tr style=\"text-align: right;\">\n",
       "      <th></th>\n",
       "      <th>interest_rate</th>\n",
       "      <th>home_price</th>\n",
       "    </tr>\n",
       "  </thead>\n",
       "  <tbody>\n",
       "    <tr>\n",
       "      <th>0</th>\n",
       "      <td>10.3</td>\n",
       "      <td>183800</td>\n",
       "    </tr>\n",
       "    <tr>\n",
       "      <th>1</th>\n",
       "      <td>10.3</td>\n",
       "      <td>183200</td>\n",
       "    </tr>\n",
       "    <tr>\n",
       "      <th>2</th>\n",
       "      <td>10.1</td>\n",
       "      <td>174900</td>\n",
       "    </tr>\n",
       "    <tr>\n",
       "      <th>3</th>\n",
       "      <td>9.3</td>\n",
       "      <td>173500</td>\n",
       "    </tr>\n",
       "    <tr>\n",
       "      <th>4</th>\n",
       "      <td>8.4</td>\n",
       "      <td>172900</td>\n",
       "    </tr>\n",
       "    <tr>\n",
       "      <th>5</th>\n",
       "      <td>7.3</td>\n",
       "      <td>173200</td>\n",
       "    </tr>\n",
       "    <tr>\n",
       "      <th>6</th>\n",
       "      <td>8.4</td>\n",
       "      <td>173200</td>\n",
       "    </tr>\n",
       "    <tr>\n",
       "      <th>7</th>\n",
       "      <td>7.9</td>\n",
       "      <td>169700</td>\n",
       "    </tr>\n",
       "    <tr>\n",
       "      <th>8</th>\n",
       "      <td>7.6</td>\n",
       "      <td>174500</td>\n",
       "    </tr>\n",
       "    <tr>\n",
       "      <th>9</th>\n",
       "      <td>7.6</td>\n",
       "      <td>177900</td>\n",
       "    </tr>\n",
       "    <tr>\n",
       "      <th>10</th>\n",
       "      <td>6.9</td>\n",
       "      <td>188100</td>\n",
       "    </tr>\n",
       "    <tr>\n",
       "      <th>11</th>\n",
       "      <td>7.4</td>\n",
       "      <td>203200</td>\n",
       "    </tr>\n",
       "    <tr>\n",
       "      <th>12</th>\n",
       "      <td>8.1</td>\n",
       "      <td>230200</td>\n",
       "    </tr>\n",
       "    <tr>\n",
       "      <th>13</th>\n",
       "      <td>7.5</td>\n",
       "      <td>258200</td>\n",
       "    </tr>\n",
       "    <tr>\n",
       "      <th>14</th>\n",
       "      <td>6.5</td>\n",
       "      <td>309800</td>\n",
       "    </tr>\n",
       "    <tr>\n",
       "      <th>15</th>\n",
       "      <td>5.8</td>\n",
       "      <td>329800</td>\n",
       "    </tr>\n",
       "  </tbody>\n",
       "</table>\n",
       "</div>"
      ],
      "text/plain": [
       "    interest_rate  home_price\n",
       "0            10.3      183800\n",
       "1            10.3      183200\n",
       "2            10.1      174900\n",
       "3             9.3      173500\n",
       "4             8.4      172900\n",
       "5             7.3      173200\n",
       "6             8.4      173200\n",
       "7             7.9      169700\n",
       "8             7.6      174500\n",
       "9             7.6      177900\n",
       "10            6.9      188100\n",
       "11            7.4      203200\n",
       "12            8.1      230200\n",
       "13            7.5      258200\n",
       "14            6.5      309800\n",
       "15            5.8      329800"
      ]
     },
     "execution_count": 32,
     "metadata": {},
     "output_type": "execute_result"
    }
   ],
   "source": [
    "df = pd.read_csv(\"C:/Users/darre/Desktop/ASDOS KOMSTAT/W13/data_w13.csv\",sep=';')\n",
    "df"
   ]
  },
  {
   "cell_type": "code",
   "execution_count": 34,
   "metadata": {},
   "outputs": [],
   "source": [
    "x = df['interest_rate']\n",
    "y = df['home_price']"
   ]
  },
  {
   "cell_type": "code",
   "execution_count": 36,
   "metadata": {},
   "outputs": [
    {
     "data": {
      "text/plain": [
       "LinregressResult(slope=-23128.346012961403, intercept=391806.7483798254, rvalue=-0.603464640875043, pvalue=0.013322387021057836, stderr=8167.692582187297, intercept_stderr=66890.98380946202)"
      ]
     },
     "execution_count": 36,
     "metadata": {},
     "output_type": "execute_result"
    }
   ],
   "source": [
    "lm = st.linregress(x,y)\n",
    "lm"
   ]
  },
  {
   "cell_type": "code",
   "execution_count": 38,
   "metadata": {},
   "outputs": [
    {
     "data": {
      "text/plain": [
       "-23128.346012961403"
      ]
     },
     "execution_count": 38,
     "metadata": {},
     "output_type": "execute_result"
    }
   ],
   "source": [
    "lm[0]"
   ]
  },
  {
   "cell_type": "code",
   "execution_count": 40,
   "metadata": {},
   "outputs": [
    {
     "data": {
      "text/plain": [
       "(-23095.69561792657, 391377.0764756829)"
      ]
     },
     "execution_count": 40,
     "metadata": {},
     "output_type": "execute_result"
    }
   ],
   "source": [
    "jack_reg(y,x)"
   ]
  },
  {
   "cell_type": "code",
   "execution_count": 55,
   "metadata": {},
   "outputs": [
    {
     "data": {
      "text/html": [
       "<div>\n",
       "<style scoped>\n",
       "    .dataframe tbody tr th:only-of-type {\n",
       "        vertical-align: middle;\n",
       "    }\n",
       "\n",
       "    .dataframe tbody tr th {\n",
       "        vertical-align: top;\n",
       "    }\n",
       "\n",
       "    .dataframe thead th {\n",
       "        text-align: right;\n",
       "    }\n",
       "</style>\n",
       "<table border=\"1\" class=\"dataframe\">\n",
       "  <thead>\n",
       "    <tr style=\"text-align: right;\">\n",
       "      <th></th>\n",
       "      <th>Nilai</th>\n",
       "      <th>Kelompok</th>\n",
       "    </tr>\n",
       "  </thead>\n",
       "  <tbody>\n",
       "    <tr>\n",
       "      <th>0</th>\n",
       "      <td>95</td>\n",
       "      <td>1</td>\n",
       "    </tr>\n",
       "    <tr>\n",
       "      <th>1</th>\n",
       "      <td>86</td>\n",
       "      <td>1</td>\n",
       "    </tr>\n",
       "    <tr>\n",
       "      <th>2</th>\n",
       "      <td>76</td>\n",
       "      <td>1</td>\n",
       "    </tr>\n",
       "    <tr>\n",
       "      <th>3</th>\n",
       "      <td>78</td>\n",
       "      <td>1</td>\n",
       "    </tr>\n",
       "    <tr>\n",
       "      <th>4</th>\n",
       "      <td>87</td>\n",
       "      <td>1</td>\n",
       "    </tr>\n",
       "    <tr>\n",
       "      <th>5</th>\n",
       "      <td>81</td>\n",
       "      <td>1</td>\n",
       "    </tr>\n",
       "    <tr>\n",
       "      <th>6</th>\n",
       "      <td>100</td>\n",
       "      <td>1</td>\n",
       "    </tr>\n",
       "    <tr>\n",
       "      <th>7</th>\n",
       "      <td>4</td>\n",
       "      <td>1</td>\n",
       "    </tr>\n",
       "    <tr>\n",
       "      <th>8</th>\n",
       "      <td>76</td>\n",
       "      <td>2</td>\n",
       "    </tr>\n",
       "    <tr>\n",
       "      <th>9</th>\n",
       "      <td>69</td>\n",
       "      <td>2</td>\n",
       "    </tr>\n",
       "    <tr>\n",
       "      <th>10</th>\n",
       "      <td>78</td>\n",
       "      <td>2</td>\n",
       "    </tr>\n",
       "    <tr>\n",
       "      <th>11</th>\n",
       "      <td>82</td>\n",
       "      <td>2</td>\n",
       "    </tr>\n",
       "    <tr>\n",
       "      <th>12</th>\n",
       "      <td>90</td>\n",
       "      <td>2</td>\n",
       "    </tr>\n",
       "    <tr>\n",
       "      <th>13</th>\n",
       "      <td>56</td>\n",
       "      <td>2</td>\n",
       "    </tr>\n",
       "    <tr>\n",
       "      <th>14</th>\n",
       "      <td>86</td>\n",
       "      <td>3</td>\n",
       "    </tr>\n",
       "    <tr>\n",
       "      <th>15</th>\n",
       "      <td>39</td>\n",
       "      <td>3</td>\n",
       "    </tr>\n",
       "    <tr>\n",
       "      <th>16</th>\n",
       "      <td>82</td>\n",
       "      <td>3</td>\n",
       "    </tr>\n",
       "    <tr>\n",
       "      <th>17</th>\n",
       "      <td>75</td>\n",
       "      <td>3</td>\n",
       "    </tr>\n",
       "    <tr>\n",
       "      <th>18</th>\n",
       "      <td>19</td>\n",
       "      <td>3</td>\n",
       "    </tr>\n",
       "    <tr>\n",
       "      <th>19</th>\n",
       "      <td>4</td>\n",
       "      <td>3</td>\n",
       "    </tr>\n",
       "    <tr>\n",
       "      <th>20</th>\n",
       "      <td>26</td>\n",
       "      <td>3</td>\n",
       "    </tr>\n",
       "  </tbody>\n",
       "</table>\n",
       "</div>"
      ],
      "text/plain": [
       "    Nilai  Kelompok\n",
       "0      95         1\n",
       "1      86         1\n",
       "2      76         1\n",
       "3      78         1\n",
       "4      87         1\n",
       "5      81         1\n",
       "6     100         1\n",
       "7       4         1\n",
       "8      76         2\n",
       "9      69         2\n",
       "10     78         2\n",
       "11     82         2\n",
       "12     90         2\n",
       "13     56         2\n",
       "14     86         3\n",
       "15     39         3\n",
       "16     82         3\n",
       "17     75         3\n",
       "18     19         3\n",
       "19      4         3\n",
       "20     26         3"
      ]
     },
     "execution_count": 55,
     "metadata": {},
     "output_type": "execute_result"
    }
   ],
   "source": [
    "df = pd.read_csv(\"C:/Users/darre/Desktop/ASDOS KOMSTAT/Data No 2.csv\",sep=';')\n",
    "df"
   ]
  },
  {
   "cell_type": "code",
   "execution_count": 77,
   "metadata": {},
   "outputs": [],
   "source": [
    "g1 = df['Nilai'][df['Kelompok'] == 1]\n",
    "g2 = df['Nilai'][df['Kelompok'] == 2]\n",
    "g3 = df['Nilai'][df['Kelompok'] == 3]"
   ]
  },
  {
   "cell_type": "code",
   "execution_count": 82,
   "metadata": {},
   "outputs": [],
   "source": [
    "# anova\n",
    "nk = 3\n",
    "nt = len(df)\n",
    "xbar_1 = np.mean(g1)\n",
    "xbar_2 = np.mean(g2)\n",
    "xbar_3 = np.mean(g3)\n",
    "xbar_tot = np.mean(df['Nilai'])\n",
    "nT = len(g1) + len(g2) + len(g3)\n",
    "\n",
    "ssw = np.sum((g1-xbar_1)**2) + np.sum((g2-xbar_2)**2) + np.sum((g3-xbar_3)**2)\n",
    "sst = np.sum((df['Nilai'] - xbar_tot)**2)\n",
    "ssb = sst - ssw\n",
    "\n",
    "msb = ssb / (nk - 1)\n",
    "msw = ssw / (nT-nk)\n",
    "\n",
    "fstat = msb/msw\n",
    "\n",
    "dfb = nk - 1\n",
    "dfw = nT - nk\n",
    "p_value = 1 - f.cdf(fstat, dfb, dfw)"
   ]
  },
  {
   "cell_type": "code",
   "execution_count": 83,
   "metadata": {},
   "outputs": [
    {
     "name": "stdout",
     "output_type": "stream",
     "text": [
      "ANOVA\n",
      "Fhitung :  2.4505120801452605\n",
      "SSB     :  3735.434523809523\n",
      "SSW     :  13719.136904761905\n",
      "MSB     :  1867.7172619047615\n",
      "MSW     :  762.1742724867725\n",
      "P value :  0.1144875868807157\n"
     ]
    }
   ],
   "source": [
    "print(\"ANOVA\")\n",
    "print(f\"Fhitung : \", fstat)\n",
    "print(f\"SSB     : \", ssb)\n",
    "print(f\"SSW     : \", ssw)\n",
    "print(f\"MSB     : \", msb)\n",
    "print(f\"MSW     : \", msw)\n",
    "print(f\"P value : \", p_value)"
   ]
  },
  {
   "cell_type": "code",
   "execution_count": 108,
   "metadata": {},
   "outputs": [],
   "source": [
    "def io_check(input):\n",
    "    Q1 = np.quantile(input, .25)\n",
    "    Q3 = np.quantile(input, .75)\n",
    "    IQR = Q3 - Q1\n",
    "    ba_q1 = Q1 - 1.5 * IQR\n",
    "    bb_q1 = Q1 - 3 * IQR\n",
    "    bb_q3 = Q3 + 1.5 * IQR\n",
    "    ba_q3 = Q3 + 3 * IQR\n",
    "\n",
    "    inner_outliers = input[(bb_q1 < input) & (input < ba_q1) | (bb_q3 < input) & (input < ba_q3)]\n",
    "    return inner_outliers, bb_q1, ba_q1, bb_q3, ba_q3\n"
   ]
  },
  {
   "cell_type": "code",
   "execution_count": 109,
   "metadata": {},
   "outputs": [
    {
     "data": {
      "text/plain": [
       "(7     4\n",
       " 19    4\n",
       " Name: Nilai, dtype: int64,\n",
       " -34.0,\n",
       " 11.0,\n",
       " 131.0,\n",
       " 176.0)"
      ]
     },
     "execution_count": 109,
     "metadata": {},
     "output_type": "execute_result"
    }
   ],
   "source": [
    "io_check(df['Nilai'])"
   ]
  },
  {
   "cell_type": "code",
   "execution_count": null,
   "metadata": {},
   "outputs": [],
   "source": []
  }
 ],
 "metadata": {
  "kernelspec": {
   "display_name": "Python 3",
   "language": "python",
   "name": "python3"
  },
  "language_info": {
   "codemirror_mode": {
    "name": "ipython",
    "version": 3
   },
   "file_extension": ".py",
   "mimetype": "text/x-python",
   "name": "python",
   "nbconvert_exporter": "python",
   "pygments_lexer": "ipython3",
   "version": "3.9.2"
  }
 },
 "nbformat": 4,
 "nbformat_minor": 2
}
