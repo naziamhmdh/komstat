{
 "cells": [
  {
   "cell_type": "markdown",
   "metadata": {
    "cell_id": "9939f8d7ad13412185eef8ab21597068",
    "deepnote_cell_type": "text-cell-h1",
    "formattedRanges": []
   },
   "source": [
    "# Komstat W9"
   ]
  },
  {
   "cell_type": "markdown",
   "metadata": {
    "cell_id": "037564fdbf324e1694b5e6a5f584a19d",
    "deepnote_cell_type": "text-cell-p",
    "formattedRanges": []
   },
   "source": [
    "introduction to python"
   ]
  },
  {
   "cell_type": "markdown",
   "metadata": {
    "cell_id": "a33be48ccd3748b4884f89c207c2138c",
    "deepnote_cell_type": "markdown"
   },
   "source": [
    "# Basic Python Command"
   ]
  },
  {
   "cell_type": "markdown",
   "metadata": {
    "cell_id": "c62604154fda4621af770b5c47df977d",
    "deepnote_cell_type": "markdown"
   },
   "source": [
    "## Variables"
   ]
  },
  {
   "cell_type": "code",
   "execution_count": 1,
   "metadata": {
    "cell_id": "db22e8a4dd4f49d5ae69f0805c3af46d",
    "deepnote_cell_type": "code",
    "deepnote_to_be_reexecuted": false,
    "execution_millis": 21,
    "execution_start": 1698124194005,
    "source_hash": null
   },
   "outputs": [
    {
     "name": "stdout",
     "output_type": "stream",
     "text": [
      "hello world\n"
     ]
    }
   ],
   "source": [
    "print('hello world')"
   ]
  },
  {
   "cell_type": "markdown",
   "metadata": {
    "cell_id": "93865b8ad9224202a47eab4782ef68d6",
    "deepnote_cell_type": "markdown"
   },
   "source": [
    "* **str()** -> convert a value (oftern numeric) to a **string** data type\n",
    "* **int()** -> convert a value (usually float) to an **integer** data type\n",
    "* **float()** -> convert a value (usually an integer) to a **float** data type"
   ]
  },
  {
   "cell_type": "code",
   "execution_count": 5,
   "metadata": {
    "cell_id": "5700c8c61c4e48629dea6cdc64f6d031",
    "deepnote_cell_type": "code",
    "deepnote_to_be_reexecuted": false,
    "execution_millis": 26,
    "execution_start": 1698124194049,
    "source_hash": null
   },
   "outputs": [
    {
     "name": "stdout",
     "output_type": "stream",
     "text": [
      "21.6\n",
      "Each person needs to pay: 21.6\n"
     ]
    }
   ],
   "source": [
    "hotel_room = 100\n",
    "tax = hotel_room * 0.08\n",
    "total = hotel_room + tax\n",
    "room_guests = 5\n",
    "share_per_person = total/room_guests\n",
    "\n",
    "print(share_per_person)\n",
    "print(\"Each person needs to pay: \"+str(share_per_person))"
   ]
  },
  {
   "cell_type": "code",
   "execution_count": 6,
   "metadata": {
    "cell_id": "072e940e2ce642faad51e292f970b06a",
    "deepnote_cell_type": "code",
    "deepnote_to_be_reexecuted": false,
    "execution_millis": 18,
    "execution_start": 1698124194050,
    "source_hash": null
   },
   "outputs": [
    {
     "name": "stdout",
     "output_type": "stream",
     "text": [
      "Dr. Prisha Jai Agarwal Ph.D.\n"
     ]
    }
   ],
   "source": [
    "salutation = 'Dr.'\n",
    "first_name = 'Prisha'\n",
    "middle_name = 'Jai'\n",
    "last_name = 'Agarwal'\n",
    "suffix = 'Ph.D.'\n",
    "\n",
    "print(salutation + ' ' + first_name + ' ' + middle_name + ' ' + last_name + ' ' + suffix)"
   ]
  },
  {
   "cell_type": "code",
   "execution_count": 3,
   "metadata": {
    "cell_id": "971014afcb9848718022114fc9941f1a",
    "deepnote_cell_type": "code",
    "deepnote_to_be_reexecuted": false,
    "execution_millis": 52,
    "execution_start": 1698124194093,
    "source_hash": null
   },
   "outputs": [
    {
     "name": "stdout",
     "output_type": "stream",
     "text": [
      "5 * 3 = 15\n"
     ]
    }
   ],
   "source": [
    "print('5 * 3 = ' + str(5*3))\n"
   ]
  },
  {
   "cell_type": "markdown",
   "metadata": {
    "cell_id": "63ab322c318d45ce922931137c2f457f",
    "deepnote_cell_type": "markdown"
   },
   "source": [
    "## Conditionals"
   ]
  },
  {
   "cell_type": "markdown",
   "metadata": {
    "cell_id": "ab88cee5e00c443bb6257f7475234977",
    "deepnote_cell_type": "markdown"
   },
   "source": [
    "Comparison with numerical values\n",
    "* x == y \n",
    "* x != y\n",
    "* x < y\n",
    "* x <= y\n",
    "* x > y\n",
    "* x >= y\n",
    "\n",
    "Comparison with strings\n",
    "* “x” == “y” -> if kata-katanya sama, return True. Jika tidak, kembalikan nilai false\r\n",
    "* “x” != “y” -> jika kata-katanya **tidak** sama, return True. Jika tidak, kembalikan false\r\n",
    "* “x” < “y” -> jika string “x” memiliki nilai Unicode yang lebih kecil dari string “y”, kembalikan True\r\n",
    "* “x” <= “y” -> jika string “x” memiliki nilai Unicode yang lebih kecil atau sama dengan string “y”, kembalikan True\r\n",
    "* “x” > “y” -> jika string “x” memiliki nilai Unicode yang lebih besar dari string “y”, kembalikan True\r\n",
    "* “x” >= “y” -> jika string “x” memiliki nilai yang lebih besar atau sama dengan string “y”, return ersion)\n",
    "\n"
   ]
  },
  {
   "cell_type": "code",
   "execution_count": 7,
   "metadata": {
    "cell_id": "f43b536d0b584e85a7d9404ec95beb2c",
    "deepnote_cell_type": "code",
    "deepnote_to_be_reexecuted": false,
    "execution_millis": 60,
    "execution_start": 1698124194094,
    "source_hash": null
   },
   "outputs": [
    {
     "name": "stdout",
     "output_type": "stream",
     "text": [
      "False\n",
      "tall\n",
      "True\n"
     ]
    },
    {
     "data": {
      "text/plain": [
       "65"
      ]
     },
     "execution_count": 7,
     "metadata": {},
     "output_type": "execute_result"
    }
   ],
   "source": [
    "print(\"tall\" < \"short\")\n",
    "\n",
    "print(chr(116)+chr(97)+chr(108)+chr(108))\n",
    "\n",
    "print('aab' < 'aac')\n",
    "\n",
    "ord('A')"
   ]
  },
  {
   "cell_type": "code",
   "execution_count": 11,
   "metadata": {
    "cell_id": "62af37cf2de94f4aa03a0795e029d69c",
    "deepnote_cell_type": "code",
    "deepnote_to_be_reexecuted": false,
    "execution_millis": 1557,
    "execution_start": 1698124194109,
    "source_hash": null
   },
   "outputs": [
    {
     "name": "stdout",
     "output_type": "stream",
     "text": [
      "positive number\n"
     ]
    }
   ],
   "source": [
    "# basic if-elif-else \n",
    "\n",
    "x = 3\n",
    "if x == 0:\n",
    "    print('zero number')\n",
    "elif x < 0:\n",
    "    print('negative number')\n",
    "else:\n",
    "    print('positive number')"
   ]
  },
  {
   "cell_type": "markdown",
   "metadata": {
    "cell_id": "d7b4aef030c6401cb16eb48ff4fdcf01",
    "deepnote_cell_type": "markdown"
   },
   "source": [
    "## Functions"
   ]
  },
  {
   "cell_type": "code",
   "execution_count": 16,
   "metadata": {
    "cell_id": "e174473e078545aa8e64bba3df035df5",
    "deepnote_cell_type": "code",
    "deepnote_to_be_reexecuted": true,
    "execution_millis": 57,
    "execution_start": 1698040130436,
    "source_hash": null
   },
   "outputs": [
    {
     "name": "stdout",
     "output_type": "stream",
     "text": [
      "(938, 948)\n"
     ]
    }
   ],
   "source": [
    "def find_total_days(years, months, days):\n",
    "    \n",
    "    my_days = (years*365) + (months*30) + days\n",
    "    mydays2 = my_days+10\n",
    "    return my_days, mydays2\n",
    "\n",
    "print(find_total_days(2,6,28))"
   ]
  },
  {
   "cell_type": "code",
   "execution_count": 25,
   "metadata": {
    "cell_id": "88270a123b5048abb9e00ee5dc9e56ff",
    "deepnote_cell_type": "code",
    "deepnote_to_be_reexecuted": true,
    "execution_millis": 17,
    "execution_start": 1698040202130,
    "source_hash": null
   },
   "outputs": [
    {
     "name": "stdout",
     "output_type": "stream",
     "text": [
      "The volume in millimeters is 59.0\n",
      "The volume in millimeters is 118.0\n"
     ]
    }
   ],
   "source": [
    "def convert_volume(fluid_ounce):\n",
    "    ml = fluid_ounce * 29.5\n",
    "    # m11 = fluid_ounce * 35\n",
    "    return ml\n",
    "\n",
    "print(\"The volume in millimeters is \" + str(convert_volume(2)))\n",
    "print(\"The volume in millimeters is \" + str(convert_volume(2)*2))"
   ]
  },
  {
   "cell_type": "markdown",
   "metadata": {
    "cell_id": "ea7a9698d5e6496aa53775c40509e8bf",
    "deepnote_cell_type": "markdown"
   },
   "source": [
    "# Packages in Python"
   ]
  },
  {
   "cell_type": "code",
   "execution_count": 10,
   "metadata": {
    "cell_id": "f40b76967067448aa8f0a26c1fd4af44",
    "deepnote_cell_type": "code",
    "deepnote_to_be_reexecuted": true,
    "source_hash": null
   },
   "outputs": [
    {
     "ename": "SyntaxError",
     "evalue": "invalid syntax (3996000999.py, line 3)",
     "output_type": "error",
     "traceback": [
      "\u001b[1;36m  Cell \u001b[1;32mIn[10], line 3\u001b[1;36m\u001b[0m\n\u001b[1;33m    pip install pandas\u001b[0m\n\u001b[1;37m        ^\u001b[0m\n\u001b[1;31mSyntaxError\u001b[0m\u001b[1;31m:\u001b[0m invalid syntax\n"
     ]
    }
   ],
   "source": [
    "# cara install\n",
    "# pip install nama_packages\n",
    "pip install pandas\n",
    "pip install numpy\n",
    " #pip install matplotlib\n",
    "# pip install seaborn"
   ]
  },
  {
   "cell_type": "markdown",
   "metadata": {
    "cell_id": "fa239f59c2994e529a5862a4bd07e588",
    "deepnote_cell_type": "markdown"
   },
   "source": [
    "cara manggil packages\n",
    "import **nama packages** as **singkatan**\n",
    "\n",
    "biasa packages ada singkatan nya sendiri\n",
    "\n",
    "* numpy -> np \n",
    "* pandas -> pd \n",
    "* tensorflow -> tf \n",
    "* matplotlib.pyplot -> plt \n",
    "* seaborn -> sns "
   ]
  },
  {
   "cell_type": "code",
   "execution_count": 27,
   "metadata": {
    "cell_id": "dc98b3b0265d4ced8425cd9f2b651bce",
    "deepnote_cell_type": "code",
    "deepnote_to_be_reexecuted": false,
    "execution_millis": 11,
    "execution_start": 1698124245892,
    "source_hash": null
   },
   "outputs": [],
   "source": [
    "import pandas as pd\n",
    "import numpy as np"
   ]
  },
  {
   "cell_type": "markdown",
   "metadata": {
    "cell_id": "dc00738e179340b8ae083984f331c364",
    "deepnote_cell_type": "markdown"
   },
   "source": [
    "# Numpy\n",
    "https://numpy.org/doc/stable/reference/routines.html"
   ]
  },
  {
   "cell_type": "code",
   "execution_count": 28,
   "metadata": {
    "cell_id": "7499bfa5a65b42418dd7fc2010252ff0",
    "deepnote_cell_type": "code",
    "deepnote_to_be_reexecuted": false,
    "execution_millis": 25,
    "execution_start": 1698124606079,
    "source_hash": null
   },
   "outputs": [
    {
     "name": "stdout",
     "output_type": "stream",
     "text": [
      "1\n",
      "1.0\n",
      "2.0\n",
      "1.0\n",
      "[1. 2. 3. 4. 6.]\n",
      "[1.2 2.3 3.4 4.5 5.6]\n",
      "17.0\n",
      "236.47679999999994\n",
      "[1.1 1.1 1.1 1.1]\n"
     ]
    }
   ],
   "source": [
    "x=1.34\n",
    "a = [1.2,2.3,3.4,4.5,5.6]\n",
    "#Rounding\n",
    "print(round(x))\n",
    "print(np.floor(x))\n",
    "print(np.ceil(x))\n",
    "print(np.trunc(x))\n",
    "print(np.around(a))\n",
    "#membuat array\n",
    "b = np.array (a)\n",
    "print (b)\n",
    "#Sum, Product, Differences\n",
    "print(sum(b))\n",
    "print(np.prod(b))\n",
    "print(np.diff(b))"
   ]
  },
  {
   "cell_type": "code",
   "execution_count": 31,
   "metadata": {
    "collapsed": true,
    "jupyter": {
     "outputs_hidden": true
    }
   },
   "outputs": [
    {
     "ename": "AttributeError",
     "evalue": "'list' object has no attribute 'type'",
     "output_type": "error",
     "traceback": [
      "\u001b[1;31m---------------------------------------------------------------------------\u001b[0m",
      "\u001b[1;31mAttributeError\u001b[0m                            Traceback (most recent call last)",
      "Cell \u001b[1;32mIn[31], line 2\u001b[0m\n\u001b[0;32m      1\u001b[0m c \u001b[38;5;241m=\u001b[39m [\u001b[38;5;241m1\u001b[39m,\u001b[38;5;241m2\u001b[39m,\u001b[38;5;241m3\u001b[39m,\u001b[38;5;241m4\u001b[39m,\u001b[38;5;241m5\u001b[39m]\n\u001b[1;32m----> 2\u001b[0m \u001b[43mc\u001b[49m\u001b[38;5;241;43m.\u001b[39;49m\u001b[43mtype\u001b[49m\n",
      "\u001b[1;31mAttributeError\u001b[0m: 'list' object has no attribute 'type'"
     ]
    }
   ],
   "source": [
    "# c = [1,2,3,4,5]\n",
    "# c.type"
   ]
  },
  {
   "cell_type": "code",
   "execution_count": 30,
   "metadata": {
    "cell_id": "8f3e159dfe2e4154af5c9147768e69e6",
    "deepnote_cell_type": "code",
    "deepnote_to_be_reexecuted": true,
    "execution_millis": 26,
    "execution_start": 1698123044975,
    "source_hash": null
   },
   "outputs": [
    {
     "name": "stdout",
     "output_type": "stream",
     "text": [
      "(5,)\n",
      "float64\n"
     ]
    }
   ],
   "source": [
    "print(b.shape)\n",
    "print(b.dtype)\n"
   ]
  },
  {
   "cell_type": "code",
   "execution_count": 31,
   "metadata": {
    "cell_id": "264bc59e17484b97b04c144aa849152a",
    "deepnote_cell_type": "code",
    "deepnote_to_be_reexecuted": true,
    "execution_millis": 23,
    "execution_start": 1698123087214,
    "source_hash": null
   },
   "outputs": [
    {
     "name": "stdout",
     "output_type": "stream",
     "text": [
      "[[ 1.+0.j  2.+0.j  3.+0.j  4.+0.j  5.+0.j  6.+0.j  7.+0.j  8.+0.j  9.+0.j\n",
      "  10.+0.j]]\n",
      "(1, 10)\n",
      "complex128\n"
     ]
    }
   ],
   "source": [
    "a = np.array([1,2,3,4,5,6,7,8,9,10],ndmin=2,dtype=complex)\n",
    "print(a)\n",
    "print(a.shape) #1 row 10 column\n",
    "print(a.dtype)"
   ]
  },
  {
   "cell_type": "code",
   "execution_count": 32,
   "metadata": {
    "cell_id": "4f8e8955c91b48dd8610f9c76ac86c12",
    "deepnote_cell_type": "code",
    "deepnote_to_be_reexecuted": true,
    "execution_millis": 25,
    "execution_start": 1698123224041,
    "source_hash": null
   },
   "outputs": [
    {
     "name": "stdout",
     "output_type": "stream",
     "text": [
      "[[1 2 3]\n",
      " [4 5 6]]\n",
      "[[1 2]\n",
      " [3 4]\n",
      " [5 6]]\n",
      "\n",
      "\n",
      "[[ 1  2  3]\n",
      " [ 4  5  6]\n",
      " [ 7  8  9]\n",
      " [10 11 12]]\n",
      "[[ 1  2  3]\n",
      " [ 4  5  6]\n",
      " [ 7  8  9]\n",
      " [10 11 12]]\n",
      "(4, 3)\n",
      "<class 'numpy.matrix'>\n",
      "<class 'numpy.ndarray'>\n",
      "<class 'numpy.ndarray'>\n"
     ]
    },
    {
     "data": {
      "text/plain": [
       "8"
      ]
     },
     "execution_count": 32,
     "metadata": {},
     "output_type": "execute_result"
    }
   ],
   "source": [
    "a = np.array([[1,2,3],[4,5,6]]) #2dimenion\n",
    "print (a)\n",
    "a.shape #2 row 3 column\n",
    "a.shape = (3,2)\n",
    "print(a)\n",
    "print('\\n')\n",
    "c = np.array([[1,2,3],[4,5,6],[7,8,9],[10,11,12]]) #2dimention\n",
    "print (c)\n",
    "print(np.asmatrix(c))\n",
    "print(c.shape) #4 rows 3 columns\n",
    "d = np.asmatrix(c)\n",
    "print(type(d))\n",
    "print(type(c))\n",
    "print(type(a))\n",
    "c[2,1] #baris 3 kolom 2"
   ]
  },
  {
   "cell_type": "code",
   "execution_count": 33,
   "metadata": {},
   "outputs": [
    {
     "name": "stdout",
     "output_type": "stream",
     "text": [
      "[[1 2 3]\n",
      " [4 5 6]]\n",
      "[[1 4]\n",
      " [2 5]\n",
      " [3 6]]\n"
     ]
    }
   ],
   "source": [
    "a = np.array([[1,2,3], [4,5,6]])\n",
    "b = np.swapaxes(a,1,0)\n",
    "print(a)\n",
    "print(b)"
   ]
  },
  {
   "cell_type": "code",
   "execution_count": 17,
   "metadata": {
    "cell_id": "425f2dc040124362b03c433c74f46c7b",
    "deepnote_cell_type": "code",
    "deepnote_to_be_reexecuted": true,
    "execution_millis": 20,
    "execution_start": 1698123262913,
    "source_hash": null
   },
   "outputs": [
    {
     "name": "stdout",
     "output_type": "stream",
     "text": [
      "[[[ 1  2  3]\n",
      "  [ 4  5  6]]\n",
      "\n",
      " [[ 7  8  9]\n",
      "  [10 11 12]]]\n",
      "(2, 2, 3)\n"
     ]
    }
   ],
   "source": [
    "d = np.array([[[1,2,3],[4,5,6]],[[7,8,9],[10,11,12]]]) #2dimention\n",
    "print (d)\n",
    "print(d.shape) #2 manages 2 rows 3 columns "
   ]
  },
  {
   "cell_type": "markdown",
   "metadata": {
    "cell_id": "9474f1805fa34db7952997a910581415",
    "deepnote_cell_type": "markdown"
   },
   "source": [
    "# Pandas\n",
    "https://pandas.pydata.org/docs/reference/index.html\n"
   ]
  },
  {
   "cell_type": "code",
   "execution_count": 37,
   "metadata": {
    "cell_id": "19d217ebfe234cbcae0cc43f8099f663",
    "deepnote_cell_type": "code",
    "deepnote_to_be_reexecuted": true,
    "execution_millis": 2630,
    "execution_start": 1698118934064,
    "source_hash": null
   },
   "outputs": [
    {
     "data": {
      "text/html": [
       "<div>\n",
       "<style scoped>\n",
       "    .dataframe tbody tr th:only-of-type {\n",
       "        vertical-align: middle;\n",
       "    }\n",
       "\n",
       "    .dataframe tbody tr th {\n",
       "        vertical-align: top;\n",
       "    }\n",
       "\n",
       "    .dataframe thead th {\n",
       "        text-align: right;\n",
       "    }\n",
       "</style>\n",
       "<table border=\"1\" class=\"dataframe\">\n",
       "  <thead>\n",
       "    <tr style=\"text-align: right;\">\n",
       "      <th></th>\n",
       "      <th>waktu_setempat</th>\n",
       "      <th>id_jalan</th>\n",
       "      <th>id_titik_mulai</th>\n",
       "      <th>id_titik_akhir</th>\n",
       "      <th>rerata_kecepatan</th>\n",
       "      <th>highway</th>\n",
       "      <th>lit</th>\n",
       "      <th>maxspeed</th>\n",
       "      <th>name</th>\n",
       "      <th>ref</th>\n",
       "    </tr>\n",
       "  </thead>\n",
       "  <tbody>\n",
       "    <tr>\n",
       "      <th>0</th>\n",
       "      <td>2020-02-01 01:00:00+00:00</td>\n",
       "      <td>691007296</td>\n",
       "      <td>21390008</td>\n",
       "      <td>1425033102</td>\n",
       "      <td>29.126</td>\n",
       "      <td>trunk</td>\n",
       "      <td>yes</td>\n",
       "      <td>30 mph</td>\n",
       "      <td>Upper Tooting Road</td>\n",
       "      <td>A24</td>\n",
       "    </tr>\n",
       "    <tr>\n",
       "      <th>1</th>\n",
       "      <td>2020-02-01 01:00:00+00:00</td>\n",
       "      <td>47010584</td>\n",
       "      <td>1677092762</td>\n",
       "      <td>579493410</td>\n",
       "      <td>46.576</td>\n",
       "      <td>primary</td>\n",
       "      <td>yes</td>\n",
       "      <td>30 mph</td>\n",
       "      <td>High Road</td>\n",
       "      <td>A1000</td>\n",
       "    </tr>\n",
       "    <tr>\n",
       "      <th>2</th>\n",
       "      <td>2020-02-01 01:00:00+00:00</td>\n",
       "      <td>22932408</td>\n",
       "      <td>26486694</td>\n",
       "      <td>1930267566</td>\n",
       "      <td>36.587</td>\n",
       "      <td>secondary</td>\n",
       "      <td>yes</td>\n",
       "      <td>20 mph</td>\n",
       "      <td>Nightingale Lane</td>\n",
       "      <td>B237</td>\n",
       "    </tr>\n",
       "    <tr>\n",
       "      <th>3</th>\n",
       "      <td>2020-02-01 01:00:00+00:00</td>\n",
       "      <td>142479648</td>\n",
       "      <td>1111592522</td>\n",
       "      <td>3775231113</td>\n",
       "      <td>34.063</td>\n",
       "      <td>primary</td>\n",
       "      <td>yes</td>\n",
       "      <td>20 mph</td>\n",
       "      <td>Lavender Hill</td>\n",
       "      <td>A3036</td>\n",
       "    </tr>\n",
       "    <tr>\n",
       "      <th>4</th>\n",
       "      <td>2020-02-01 01:00:00+00:00</td>\n",
       "      <td>8504977</td>\n",
       "      <td>5940503398</td>\n",
       "      <td>5940503394</td>\n",
       "      <td>38.336</td>\n",
       "      <td>primary</td>\n",
       "      <td>yes</td>\n",
       "      <td>30 mph</td>\n",
       "      <td>Harrow Road</td>\n",
       "      <td>A404</td>\n",
       "    </tr>\n",
       "  </tbody>\n",
       "</table>\n",
       "</div>"
      ],
      "text/plain": [
       "              waktu_setempat   id_jalan  id_titik_mulai  id_titik_akhir  \\\n",
       "0  2020-02-01 01:00:00+00:00  691007296        21390008      1425033102   \n",
       "1  2020-02-01 01:00:00+00:00   47010584      1677092762       579493410   \n",
       "2  2020-02-01 01:00:00+00:00   22932408        26486694      1930267566   \n",
       "3  2020-02-01 01:00:00+00:00  142479648      1111592522      3775231113   \n",
       "4  2020-02-01 01:00:00+00:00    8504977      5940503398      5940503394   \n",
       "\n",
       "   rerata_kecepatan    highway  lit maxspeed                name    ref  \n",
       "0            29.126      trunk  yes   30 mph  Upper Tooting Road    A24  \n",
       "1            46.576    primary  yes   30 mph           High Road  A1000  \n",
       "2            36.587  secondary  yes   20 mph    Nightingale Lane   B237  \n",
       "3            34.063    primary  yes   20 mph       Lavender Hill  A3036  \n",
       "4            38.336    primary  yes   30 mph         Harrow Road   A404  "
      ]
     },
     "execution_count": 37,
     "metadata": {},
     "output_type": "execute_result"
    }
   ],
   "source": [
    "data = pd.read_csv(\"C:/Users/Nazia Mahmudah/Downloads/SEMESTER 5/NGASDOS KOMSTAT 2023/train_features_complete.csv\")\n",
    "data.head()"
   ]
  },
  {
   "cell_type": "code",
   "execution_count": 38,
   "metadata": {
    "cell_id": "cadaf0ab1f1744baafc93f7a583876f2",
    "deepnote_cell_type": "code",
    "deepnote_to_be_reexecuted": true,
    "execution_millis": 410,
    "execution_start": 1698119053172,
    "source_hash": null
   },
   "outputs": [
    {
     "data": {
      "text/html": [
       "<div>\n",
       "<style scoped>\n",
       "    .dataframe tbody tr th:only-of-type {\n",
       "        vertical-align: middle;\n",
       "    }\n",
       "\n",
       "    .dataframe tbody tr th {\n",
       "        vertical-align: top;\n",
       "    }\n",
       "\n",
       "    .dataframe thead th {\n",
       "        text-align: right;\n",
       "    }\n",
       "</style>\n",
       "<table border=\"1\" class=\"dataframe\">\n",
       "  <thead>\n",
       "    <tr style=\"text-align: right;\">\n",
       "      <th></th>\n",
       "      <th>waktu_setempat</th>\n",
       "      <th>id_jalan</th>\n",
       "      <th>id_titik_mulai</th>\n",
       "      <th>id_titik_akhir</th>\n",
       "      <th>rerata_kecepatan</th>\n",
       "    </tr>\n",
       "  </thead>\n",
       "  <tbody>\n",
       "    <tr>\n",
       "      <th>0</th>\n",
       "      <td>2020-02-01 01:00:00+00:00</td>\n",
       "      <td>691007296</td>\n",
       "      <td>21390008</td>\n",
       "      <td>1425033102</td>\n",
       "      <td>29.126</td>\n",
       "    </tr>\n",
       "    <tr>\n",
       "      <th>1</th>\n",
       "      <td>2020-02-01 01:00:00+00:00</td>\n",
       "      <td>47010584</td>\n",
       "      <td>1677092762</td>\n",
       "      <td>579493410</td>\n",
       "      <td>46.576</td>\n",
       "    </tr>\n",
       "    <tr>\n",
       "      <th>2</th>\n",
       "      <td>2020-02-01 01:00:00+00:00</td>\n",
       "      <td>22932408</td>\n",
       "      <td>26486694</td>\n",
       "      <td>1930267566</td>\n",
       "      <td>36.587</td>\n",
       "    </tr>\n",
       "    <tr>\n",
       "      <th>3</th>\n",
       "      <td>2020-02-01 01:00:00+00:00</td>\n",
       "      <td>142479648</td>\n",
       "      <td>1111592522</td>\n",
       "      <td>3775231113</td>\n",
       "      <td>34.063</td>\n",
       "    </tr>\n",
       "    <tr>\n",
       "      <th>4</th>\n",
       "      <td>2020-02-01 01:00:00+00:00</td>\n",
       "      <td>8504977</td>\n",
       "      <td>5940503398</td>\n",
       "      <td>5940503394</td>\n",
       "      <td>38.336</td>\n",
       "    </tr>\n",
       "  </tbody>\n",
       "</table>\n",
       "</div>"
      ],
      "text/plain": [
       "              waktu_setempat   id_jalan  id_titik_mulai  id_titik_akhir  \\\n",
       "0  2020-02-01 01:00:00+00:00  691007296        21390008      1425033102   \n",
       "1  2020-02-01 01:00:00+00:00   47010584      1677092762       579493410   \n",
       "2  2020-02-01 01:00:00+00:00   22932408        26486694      1930267566   \n",
       "3  2020-02-01 01:00:00+00:00  142479648      1111592522      3775231113   \n",
       "4  2020-02-01 01:00:00+00:00    8504977      5940503398      5940503394   \n",
       "\n",
       "   rerata_kecepatan  \n",
       "0            29.126  \n",
       "1            46.576  \n",
       "2            36.587  \n",
       "3            34.063  \n",
       "4            38.336  "
      ]
     },
     "execution_count": 38,
     "metadata": {},
     "output_type": "execute_result"
    }
   ],
   "source": [
    "df = data.copy()\n",
    "df = df.drop(columns = ['highway','lit','maxspeed','name','ref'], axis = 1)\n",
    "df.head()"
   ]
  },
  {
   "cell_type": "code",
   "execution_count": 41,
   "metadata": {
    "cell_id": "ca0807bd4c574c7e83e28ffeb2bc9266",
    "deepnote_cell_type": "code",
    "deepnote_to_be_reexecuted": true,
    "execution_millis": 89,
    "execution_start": 1698119101206,
    "source_hash": null
   },
   "outputs": [
    {
     "data": {
      "text/plain": [
       "count    3.986480e+05\n",
       "mean     8.017984e+07\n",
       "std      1.561702e+08\n",
       "min      1.210000e+03\n",
       "25%      4.060819e+06\n",
       "50%      2.470429e+07\n",
       "75%      6.692459e+07\n",
       "max      6.910073e+08\n",
       "Name: id_jalan, dtype: float64"
      ]
     },
     "execution_count": 41,
     "metadata": {},
     "output_type": "execute_result"
    }
   ],
   "source": [
    "df['id_jalan'].describe()"
   ]
  },
  {
   "cell_type": "code",
   "execution_count": 42,
   "metadata": {
    "cell_id": "74dbbb68fc334830b43b7d3f822fd524",
    "deepnote_cell_type": "code",
    "deepnote_to_be_reexecuted": true,
    "execution_millis": 7151,
    "execution_start": 1698119239861,
    "source_hash": null
   },
   "outputs": [],
   "source": [
    "df.to_csv('df.csv', index = False)"
   ]
  },
  {
   "cell_type": "code",
   "execution_count": 43,
   "metadata": {
    "cell_id": "2f04db16d7664961a5ae9b26d569e12b",
    "deepnote_cell_type": "code",
    "deepnote_to_be_reexecuted": true,
    "execution_millis": 1008,
    "execution_start": 1698119295580,
    "source_hash": null
   },
   "outputs": [
    {
     "data": {
      "text/html": [
       "<div>\n",
       "<style scoped>\n",
       "    .dataframe tbody tr th:only-of-type {\n",
       "        vertical-align: middle;\n",
       "    }\n",
       "\n",
       "    .dataframe tbody tr th {\n",
       "        vertical-align: top;\n",
       "    }\n",
       "\n",
       "    .dataframe thead th {\n",
       "        text-align: right;\n",
       "    }\n",
       "</style>\n",
       "<table border=\"1\" class=\"dataframe\">\n",
       "  <thead>\n",
       "    <tr style=\"text-align: right;\">\n",
       "      <th></th>\n",
       "      <th>waktu_setempat</th>\n",
       "      <th>id_jalan</th>\n",
       "      <th>id_titik_mulai</th>\n",
       "      <th>id_titik_akhir</th>\n",
       "      <th>rerata_kecepatan</th>\n",
       "    </tr>\n",
       "  </thead>\n",
       "  <tbody>\n",
       "    <tr>\n",
       "      <th>0</th>\n",
       "      <td>2020-02-01 01:00:00+00:00</td>\n",
       "      <td>691007296</td>\n",
       "      <td>21390008</td>\n",
       "      <td>1425033102</td>\n",
       "      <td>29.126</td>\n",
       "    </tr>\n",
       "    <tr>\n",
       "      <th>1</th>\n",
       "      <td>2020-02-01 01:00:00+00:00</td>\n",
       "      <td>47010584</td>\n",
       "      <td>1677092762</td>\n",
       "      <td>579493410</td>\n",
       "      <td>46.576</td>\n",
       "    </tr>\n",
       "    <tr>\n",
       "      <th>2</th>\n",
       "      <td>2020-02-01 01:00:00+00:00</td>\n",
       "      <td>22932408</td>\n",
       "      <td>26486694</td>\n",
       "      <td>1930267566</td>\n",
       "      <td>36.587</td>\n",
       "    </tr>\n",
       "    <tr>\n",
       "      <th>3</th>\n",
       "      <td>2020-02-01 01:00:00+00:00</td>\n",
       "      <td>142479648</td>\n",
       "      <td>1111592522</td>\n",
       "      <td>3775231113</td>\n",
       "      <td>34.063</td>\n",
       "    </tr>\n",
       "    <tr>\n",
       "      <th>4</th>\n",
       "      <td>2020-02-01 01:00:00+00:00</td>\n",
       "      <td>8504977</td>\n",
       "      <td>5940503398</td>\n",
       "      <td>5940503394</td>\n",
       "      <td>38.336</td>\n",
       "    </tr>\n",
       "    <tr>\n",
       "      <th>...</th>\n",
       "      <td>...</td>\n",
       "      <td>...</td>\n",
       "      <td>...</td>\n",
       "      <td>...</td>\n",
       "      <td>...</td>\n",
       "    </tr>\n",
       "    <tr>\n",
       "      <th>398643</th>\n",
       "      <td>2020-02-22 23:00:00+00:00</td>\n",
       "      <td>3691841</td>\n",
       "      <td>18235127</td>\n",
       "      <td>1590448416</td>\n",
       "      <td>41.094</td>\n",
       "    </tr>\n",
       "    <tr>\n",
       "      <th>398644</th>\n",
       "      <td>2020-02-22 23:00:00+00:00</td>\n",
       "      <td>3691841</td>\n",
       "      <td>1250564256</td>\n",
       "      <td>18293380</td>\n",
       "      <td>45.902</td>\n",
       "    </tr>\n",
       "    <tr>\n",
       "      <th>398645</th>\n",
       "      <td>2020-02-22 23:00:00+00:00</td>\n",
       "      <td>182210371</td>\n",
       "      <td>33139383</td>\n",
       "      <td>33139375</td>\n",
       "      <td>38.918</td>\n",
       "    </tr>\n",
       "    <tr>\n",
       "      <th>398646</th>\n",
       "      <td>2020-02-22 23:00:00+00:00</td>\n",
       "      <td>8504977</td>\n",
       "      <td>1623682036</td>\n",
       "      <td>26467191</td>\n",
       "      <td>34.951</td>\n",
       "    </tr>\n",
       "    <tr>\n",
       "      <th>398647</th>\n",
       "      <td>2020-02-22 23:00:00+00:00</td>\n",
       "      <td>150783571</td>\n",
       "      <td>290025573</td>\n",
       "      <td>873734149</td>\n",
       "      <td>40.949</td>\n",
       "    </tr>\n",
       "  </tbody>\n",
       "</table>\n",
       "<p>398648 rows × 5 columns</p>\n",
       "</div>"
      ],
      "text/plain": [
       "                   waktu_setempat   id_jalan  id_titik_mulai  id_titik_akhir  \\\n",
       "0       2020-02-01 01:00:00+00:00  691007296        21390008      1425033102   \n",
       "1       2020-02-01 01:00:00+00:00   47010584      1677092762       579493410   \n",
       "2       2020-02-01 01:00:00+00:00   22932408        26486694      1930267566   \n",
       "3       2020-02-01 01:00:00+00:00  142479648      1111592522      3775231113   \n",
       "4       2020-02-01 01:00:00+00:00    8504977      5940503398      5940503394   \n",
       "...                           ...        ...             ...             ...   \n",
       "398643  2020-02-22 23:00:00+00:00    3691841        18235127      1590448416   \n",
       "398644  2020-02-22 23:00:00+00:00    3691841      1250564256        18293380   \n",
       "398645  2020-02-22 23:00:00+00:00  182210371        33139383        33139375   \n",
       "398646  2020-02-22 23:00:00+00:00    8504977      1623682036        26467191   \n",
       "398647  2020-02-22 23:00:00+00:00  150783571       290025573       873734149   \n",
       "\n",
       "        rerata_kecepatan  \n",
       "0                 29.126  \n",
       "1                 46.576  \n",
       "2                 36.587  \n",
       "3                 34.063  \n",
       "4                 38.336  \n",
       "...                  ...  \n",
       "398643            41.094  \n",
       "398644            45.902  \n",
       "398645            38.918  \n",
       "398646            34.951  \n",
       "398647            40.949  \n",
       "\n",
       "[398648 rows x 5 columns]"
      ]
     },
     "execution_count": 43,
     "metadata": {},
     "output_type": "execute_result"
    }
   ],
   "source": [
    "pd.read_csv('df.csv')"
   ]
  },
  {
   "cell_type": "code",
   "execution_count": 44,
   "metadata": {
    "cell_id": "3c0383cd7a7e4c47868c467bb1ba6a7c",
    "deepnote_cell_type": "code",
    "deepnote_to_be_reexecuted": true,
    "execution_millis": 11372,
    "execution_start": 1698119271809,
    "source_hash": null
   },
   "outputs": [],
   "source": [
    "df.to_csv('df1.csv', index = True)"
   ]
  },
  {
   "cell_type": "code",
   "execution_count": 45,
   "metadata": {
    "cell_id": "6470cf732c124460a0237ca55b29204d",
    "deepnote_cell_type": "code",
    "deepnote_to_be_reexecuted": true,
    "execution_millis": 1521,
    "execution_start": 1698119310307,
    "source_hash": null
   },
   "outputs": [
    {
     "data": {
      "text/html": [
       "<div>\n",
       "<style scoped>\n",
       "    .dataframe tbody tr th:only-of-type {\n",
       "        vertical-align: middle;\n",
       "    }\n",
       "\n",
       "    .dataframe tbody tr th {\n",
       "        vertical-align: top;\n",
       "    }\n",
       "\n",
       "    .dataframe thead th {\n",
       "        text-align: right;\n",
       "    }\n",
       "</style>\n",
       "<table border=\"1\" class=\"dataframe\">\n",
       "  <thead>\n",
       "    <tr style=\"text-align: right;\">\n",
       "      <th></th>\n",
       "      <th>Unnamed: 0</th>\n",
       "      <th>waktu_setempat</th>\n",
       "      <th>id_jalan</th>\n",
       "      <th>id_titik_mulai</th>\n",
       "      <th>id_titik_akhir</th>\n",
       "      <th>rerata_kecepatan</th>\n",
       "    </tr>\n",
       "  </thead>\n",
       "  <tbody>\n",
       "    <tr>\n",
       "      <th>0</th>\n",
       "      <td>0</td>\n",
       "      <td>2020-02-01 01:00:00+00:00</td>\n",
       "      <td>691007296</td>\n",
       "      <td>21390008</td>\n",
       "      <td>1425033102</td>\n",
       "      <td>29.126</td>\n",
       "    </tr>\n",
       "    <tr>\n",
       "      <th>1</th>\n",
       "      <td>1</td>\n",
       "      <td>2020-02-01 01:00:00+00:00</td>\n",
       "      <td>47010584</td>\n",
       "      <td>1677092762</td>\n",
       "      <td>579493410</td>\n",
       "      <td>46.576</td>\n",
       "    </tr>\n",
       "    <tr>\n",
       "      <th>2</th>\n",
       "      <td>2</td>\n",
       "      <td>2020-02-01 01:00:00+00:00</td>\n",
       "      <td>22932408</td>\n",
       "      <td>26486694</td>\n",
       "      <td>1930267566</td>\n",
       "      <td>36.587</td>\n",
       "    </tr>\n",
       "    <tr>\n",
       "      <th>3</th>\n",
       "      <td>3</td>\n",
       "      <td>2020-02-01 01:00:00+00:00</td>\n",
       "      <td>142479648</td>\n",
       "      <td>1111592522</td>\n",
       "      <td>3775231113</td>\n",
       "      <td>34.063</td>\n",
       "    </tr>\n",
       "    <tr>\n",
       "      <th>4</th>\n",
       "      <td>4</td>\n",
       "      <td>2020-02-01 01:00:00+00:00</td>\n",
       "      <td>8504977</td>\n",
       "      <td>5940503398</td>\n",
       "      <td>5940503394</td>\n",
       "      <td>38.336</td>\n",
       "    </tr>\n",
       "    <tr>\n",
       "      <th>...</th>\n",
       "      <td>...</td>\n",
       "      <td>...</td>\n",
       "      <td>...</td>\n",
       "      <td>...</td>\n",
       "      <td>...</td>\n",
       "      <td>...</td>\n",
       "    </tr>\n",
       "    <tr>\n",
       "      <th>398643</th>\n",
       "      <td>398643</td>\n",
       "      <td>2020-02-22 23:00:00+00:00</td>\n",
       "      <td>3691841</td>\n",
       "      <td>18235127</td>\n",
       "      <td>1590448416</td>\n",
       "      <td>41.094</td>\n",
       "    </tr>\n",
       "    <tr>\n",
       "      <th>398644</th>\n",
       "      <td>398644</td>\n",
       "      <td>2020-02-22 23:00:00+00:00</td>\n",
       "      <td>3691841</td>\n",
       "      <td>1250564256</td>\n",
       "      <td>18293380</td>\n",
       "      <td>45.902</td>\n",
       "    </tr>\n",
       "    <tr>\n",
       "      <th>398645</th>\n",
       "      <td>398645</td>\n",
       "      <td>2020-02-22 23:00:00+00:00</td>\n",
       "      <td>182210371</td>\n",
       "      <td>33139383</td>\n",
       "      <td>33139375</td>\n",
       "      <td>38.918</td>\n",
       "    </tr>\n",
       "    <tr>\n",
       "      <th>398646</th>\n",
       "      <td>398646</td>\n",
       "      <td>2020-02-22 23:00:00+00:00</td>\n",
       "      <td>8504977</td>\n",
       "      <td>1623682036</td>\n",
       "      <td>26467191</td>\n",
       "      <td>34.951</td>\n",
       "    </tr>\n",
       "    <tr>\n",
       "      <th>398647</th>\n",
       "      <td>398647</td>\n",
       "      <td>2020-02-22 23:00:00+00:00</td>\n",
       "      <td>150783571</td>\n",
       "      <td>290025573</td>\n",
       "      <td>873734149</td>\n",
       "      <td>40.949</td>\n",
       "    </tr>\n",
       "  </tbody>\n",
       "</table>\n",
       "<p>398648 rows × 6 columns</p>\n",
       "</div>"
      ],
      "text/plain": [
       "        Unnamed: 0             waktu_setempat   id_jalan  id_titik_mulai  \\\n",
       "0                0  2020-02-01 01:00:00+00:00  691007296        21390008   \n",
       "1                1  2020-02-01 01:00:00+00:00   47010584      1677092762   \n",
       "2                2  2020-02-01 01:00:00+00:00   22932408        26486694   \n",
       "3                3  2020-02-01 01:00:00+00:00  142479648      1111592522   \n",
       "4                4  2020-02-01 01:00:00+00:00    8504977      5940503398   \n",
       "...            ...                        ...        ...             ...   \n",
       "398643      398643  2020-02-22 23:00:00+00:00    3691841        18235127   \n",
       "398644      398644  2020-02-22 23:00:00+00:00    3691841      1250564256   \n",
       "398645      398645  2020-02-22 23:00:00+00:00  182210371        33139383   \n",
       "398646      398646  2020-02-22 23:00:00+00:00    8504977      1623682036   \n",
       "398647      398647  2020-02-22 23:00:00+00:00  150783571       290025573   \n",
       "\n",
       "        id_titik_akhir  rerata_kecepatan  \n",
       "0           1425033102            29.126  \n",
       "1            579493410            46.576  \n",
       "2           1930267566            36.587  \n",
       "3           3775231113            34.063  \n",
       "4           5940503394            38.336  \n",
       "...                ...               ...  \n",
       "398643      1590448416            41.094  \n",
       "398644        18293380            45.902  \n",
       "398645        33139375            38.918  \n",
       "398646        26467191            34.951  \n",
       "398647       873734149            40.949  \n",
       "\n",
       "[398648 rows x 6 columns]"
      ]
     },
     "execution_count": 45,
     "metadata": {},
     "output_type": "execute_result"
    }
   ],
   "source": [
    "pd.read_csv('df1.csv')"
   ]
  },
  {
   "cell_type": "code",
   "execution_count": null,
   "metadata": {
    "cell_id": "faf4d72aae6245e5a1f7d85a6639dc94",
    "collapsed": true,
    "deepnote_cell_type": "code",
    "deepnote_to_be_reexecuted": true,
    "execution_millis": 9993,
    "execution_start": 1698118719775,
    "jupyter": {
     "outputs_hidden": true
    },
    "source_hash": null
   },
   "outputs": [],
   "source": [
    "pip install openpyxl"
   ]
  },
  {
   "cell_type": "code",
   "execution_count": 46,
   "metadata": {
    "cell_id": "53041b8104694e3d8837ffb1579924e5",
    "deepnote_cell_type": "code",
    "deepnote_to_be_reexecuted": true,
    "execution_millis": 1603,
    "execution_start": 1698118736494,
    "source_hash": null
   },
   "outputs": [
    {
     "data": {
      "text/html": [
       "<div>\n",
       "<style scoped>\n",
       "    .dataframe tbody tr th:only-of-type {\n",
       "        vertical-align: middle;\n",
       "    }\n",
       "\n",
       "    .dataframe tbody tr th {\n",
       "        vertical-align: top;\n",
       "    }\n",
       "\n",
       "    .dataframe thead th {\n",
       "        text-align: right;\n",
       "    }\n",
       "</style>\n",
       "<table border=\"1\" class=\"dataframe\">\n",
       "  <thead>\n",
       "    <tr style=\"text-align: right;\">\n",
       "      <th></th>\n",
       "      <th>Date</th>\n",
       "      <th>Tx</th>\n",
       "    </tr>\n",
       "  </thead>\n",
       "  <tbody>\n",
       "    <tr>\n",
       "      <th>0</th>\n",
       "      <td>2023-01-01</td>\n",
       "      <td>31.0</td>\n",
       "    </tr>\n",
       "    <tr>\n",
       "      <th>1</th>\n",
       "      <td>2023-01-02</td>\n",
       "      <td>31.5</td>\n",
       "    </tr>\n",
       "    <tr>\n",
       "      <th>2</th>\n",
       "      <td>2023-01-03</td>\n",
       "      <td>32.8</td>\n",
       "    </tr>\n",
       "    <tr>\n",
       "      <th>3</th>\n",
       "      <td>2023-01-04</td>\n",
       "      <td>34.0</td>\n",
       "    </tr>\n",
       "    <tr>\n",
       "      <th>4</th>\n",
       "      <td>2023-01-05</td>\n",
       "      <td>34.2</td>\n",
       "    </tr>\n",
       "  </tbody>\n",
       "</table>\n",
       "</div>"
      ],
      "text/plain": [
       "        Date    Tx\n",
       "0 2023-01-01  31.0\n",
       "1 2023-01-02  31.5\n",
       "2 2023-01-03  32.8\n",
       "3 2023-01-04  34.0\n",
       "4 2023-01-05  34.2"
      ]
     },
     "execution_count": 46,
     "metadata": {},
     "output_type": "execute_result"
    }
   ],
   "source": [
    "data1 = pd.read_excel('cuaca_test.xlsx')\n",
    "data1.head()"
   ]
  },
  {
   "cell_type": "code",
   "execution_count": 47,
   "metadata": {
    "cell_id": "ce59ecf41a444e38a932a432cda4f798",
    "deepnote_cell_type": "code",
    "deepnote_to_be_reexecuted": true,
    "execution_millis": 845,
    "execution_start": 1698118742222,
    "source_hash": null
   },
   "outputs": [
    {
     "data": {
      "text/html": [
       "<div>\n",
       "<style scoped>\n",
       "    .dataframe tbody tr th:only-of-type {\n",
       "        vertical-align: middle;\n",
       "    }\n",
       "\n",
       "    .dataframe tbody tr th {\n",
       "        vertical-align: top;\n",
       "    }\n",
       "\n",
       "    .dataframe thead th {\n",
       "        text-align: right;\n",
       "    }\n",
       "</style>\n",
       "<table border=\"1\" class=\"dataframe\">\n",
       "  <thead>\n",
       "    <tr style=\"text-align: right;\">\n",
       "      <th></th>\n",
       "      <th>Date</th>\n",
       "      <th>Tx</th>\n",
       "    </tr>\n",
       "  </thead>\n",
       "  <tbody>\n",
       "    <tr>\n",
       "      <th>0</th>\n",
       "      <td>2022-01-01</td>\n",
       "      <td>34.4</td>\n",
       "    </tr>\n",
       "    <tr>\n",
       "      <th>1</th>\n",
       "      <td>2022-01-02</td>\n",
       "      <td>34.3</td>\n",
       "    </tr>\n",
       "    <tr>\n",
       "      <th>2</th>\n",
       "      <td>2022-01-03</td>\n",
       "      <td>32.8</td>\n",
       "    </tr>\n",
       "    <tr>\n",
       "      <th>3</th>\n",
       "      <td>2022-01-04</td>\n",
       "      <td>33.0</td>\n",
       "    </tr>\n",
       "    <tr>\n",
       "      <th>4</th>\n",
       "      <td>2022-01-05</td>\n",
       "      <td>32.0</td>\n",
       "    </tr>\n",
       "  </tbody>\n",
       "</table>\n",
       "</div>"
      ],
      "text/plain": [
       "        Date    Tx\n",
       "0 2022-01-01  34.4\n",
       "1 2022-01-02  34.3\n",
       "2 2022-01-03  32.8\n",
       "3 2022-01-04  33.0\n",
       "4 2022-01-05  32.0"
      ]
     },
     "execution_count": 47,
     "metadata": {},
     "output_type": "execute_result"
    }
   ],
   "source": [
    "data2 = pd.read_excel('cuaca_train.xlsx')\n",
    "data2.head()"
   ]
  },
  {
   "cell_type": "code",
   "execution_count": 49,
   "metadata": {
    "cell_id": "ee34d09f60574ed3ba605fa54fdc8303",
    "deepnote_cell_type": "code",
    "deepnote_to_be_reexecuted": true,
    "execution_millis": 161,
    "execution_start": 1698118816561,
    "source_hash": null
   },
   "outputs": [
    {
     "data": {
      "text/html": [
       "<div>\n",
       "<style scoped>\n",
       "    .dataframe tbody tr th:only-of-type {\n",
       "        vertical-align: middle;\n",
       "    }\n",
       "\n",
       "    .dataframe tbody tr th {\n",
       "        vertical-align: top;\n",
       "    }\n",
       "\n",
       "    .dataframe thead th {\n",
       "        text-align: right;\n",
       "    }\n",
       "</style>\n",
       "<table border=\"1\" class=\"dataframe\">\n",
       "  <thead>\n",
       "    <tr style=\"text-align: right;\">\n",
       "      <th></th>\n",
       "      <th>Date</th>\n",
       "      <th>Tx</th>\n",
       "    </tr>\n",
       "  </thead>\n",
       "  <tbody>\n",
       "    <tr>\n",
       "      <th>0</th>\n",
       "      <td>2022-01-01</td>\n",
       "      <td>34.4</td>\n",
       "    </tr>\n",
       "    <tr>\n",
       "      <th>1</th>\n",
       "      <td>2022-01-02</td>\n",
       "      <td>34.3</td>\n",
       "    </tr>\n",
       "    <tr>\n",
       "      <th>2</th>\n",
       "      <td>2022-01-03</td>\n",
       "      <td>32.8</td>\n",
       "    </tr>\n",
       "    <tr>\n",
       "      <th>3</th>\n",
       "      <td>2022-01-04</td>\n",
       "      <td>33.0</td>\n",
       "    </tr>\n",
       "    <tr>\n",
       "      <th>4</th>\n",
       "      <td>2022-01-05</td>\n",
       "      <td>32.0</td>\n",
       "    </tr>\n",
       "  </tbody>\n",
       "</table>\n",
       "</div>"
      ],
      "text/plain": [
       "        Date    Tx\n",
       "0 2022-01-01  34.4\n",
       "1 2022-01-02  34.3\n",
       "2 2022-01-03  32.8\n",
       "3 2022-01-04  33.0\n",
       "4 2022-01-05  32.0"
      ]
     },
     "execution_count": 49,
     "metadata": {},
     "output_type": "execute_result"
    }
   ],
   "source": [
    "data_gabung = pd.concat([data2,data1], axis = 0)\n",
    "data_gabung.head()\n"
   ]
  },
  {
   "cell_type": "code",
   "execution_count": 50,
   "metadata": {},
   "outputs": [
    {
     "data": {
      "text/html": [
       "<div>\n",
       "<style scoped>\n",
       "    .dataframe tbody tr th:only-of-type {\n",
       "        vertical-align: middle;\n",
       "    }\n",
       "\n",
       "    .dataframe tbody tr th {\n",
       "        vertical-align: top;\n",
       "    }\n",
       "\n",
       "    .dataframe thead th {\n",
       "        text-align: right;\n",
       "    }\n",
       "</style>\n",
       "<table border=\"1\" class=\"dataframe\">\n",
       "  <thead>\n",
       "    <tr style=\"text-align: right;\">\n",
       "      <th></th>\n",
       "      <th>Date</th>\n",
       "      <th>Tx</th>\n",
       "    </tr>\n",
       "  </thead>\n",
       "  <tbody>\n",
       "    <tr>\n",
       "      <th>0</th>\n",
       "      <td>2022-01-01</td>\n",
       "      <td>34.4</td>\n",
       "    </tr>\n",
       "    <tr>\n",
       "      <th>1</th>\n",
       "      <td>2022-01-02</td>\n",
       "      <td>34.3</td>\n",
       "    </tr>\n",
       "    <tr>\n",
       "      <th>2</th>\n",
       "      <td>2022-01-03</td>\n",
       "      <td>32.8</td>\n",
       "    </tr>\n",
       "    <tr>\n",
       "      <th>3</th>\n",
       "      <td>2022-01-04</td>\n",
       "      <td>33.0</td>\n",
       "    </tr>\n",
       "    <tr>\n",
       "      <th>4</th>\n",
       "      <td>2022-01-05</td>\n",
       "      <td>32.0</td>\n",
       "    </tr>\n",
       "    <tr>\n",
       "      <th>...</th>\n",
       "      <td>...</td>\n",
       "      <td>...</td>\n",
       "    </tr>\n",
       "    <tr>\n",
       "      <th>279</th>\n",
       "      <td>2023-10-07</td>\n",
       "      <td>33.8</td>\n",
       "    </tr>\n",
       "    <tr>\n",
       "      <th>280</th>\n",
       "      <td>2023-10-08</td>\n",
       "      <td>35.1</td>\n",
       "    </tr>\n",
       "    <tr>\n",
       "      <th>281</th>\n",
       "      <td>2023-10-09</td>\n",
       "      <td>35.0</td>\n",
       "    </tr>\n",
       "    <tr>\n",
       "      <th>282</th>\n",
       "      <td>2023-10-10</td>\n",
       "      <td>35.5</td>\n",
       "    </tr>\n",
       "    <tr>\n",
       "      <th>283</th>\n",
       "      <td>2023-10-11</td>\n",
       "      <td>34.8</td>\n",
       "    </tr>\n",
       "  </tbody>\n",
       "</table>\n",
       "<p>649 rows × 2 columns</p>\n",
       "</div>"
      ],
      "text/plain": [
       "          Date    Tx\n",
       "0   2022-01-01  34.4\n",
       "1   2022-01-02  34.3\n",
       "2   2022-01-03  32.8\n",
       "3   2022-01-04  33.0\n",
       "4   2022-01-05  32.0\n",
       "..         ...   ...\n",
       "279 2023-10-07  33.8\n",
       "280 2023-10-08  35.1\n",
       "281 2023-10-09  35.0\n",
       "282 2023-10-10  35.5\n",
       "283 2023-10-11  34.8\n",
       "\n",
       "[649 rows x 2 columns]"
      ]
     },
     "execution_count": 50,
     "metadata": {},
     "output_type": "execute_result"
    }
   ],
   "source": [
    "data_gabung"
   ]
  },
  {
   "cell_type": "code",
   "execution_count": 51,
   "metadata": {
    "cell_id": "890808c42d9a45a1ab402c05bc47322a",
    "deepnote_cell_type": "code",
    "deepnote_to_be_reexecuted": true,
    "execution_millis": 380,
    "execution_start": 1698118870176,
    "source_hash": null
   },
   "outputs": [],
   "source": [
    "data_gabung.to_excel('data_gabung.xlsx', index = False)"
   ]
  },
  {
   "cell_type": "markdown",
   "metadata": {
    "created_in_deepnote_cell": true,
    "deepnote_cell_type": "markdown"
   },
   "source": [
    "<a style='text-decoration:none;line-height:16px;display:flex;color:#5B5B62;padding:10px;justify-content:end;' href='https://deepnote.com?utm_source=created-in-deepnote-cell&projectId=235be482-bea5-41e0-a131-c60cdaf79d4f' target=\"_blank\">\n",
    "<img alt='Created in deepnote.com' style='display:inline;max-height:16px;margin:0px;margin-right:7.5px;' src='data:image/svg+xml;base64,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' > </img>\n",
    "Created in <span style='font-weight:600;margin-left:4px;'>Deepnote</span></a>"
   ]
  }
 ],
 "metadata": {
  "deepnote": {},
  "deepnote_execution_queue": [],
  "deepnote_notebook_id": "cc836ed5f3d54ad0a8a1b8d707462659",
  "deepnote_persisted_session": {
   "createdAt": "2023-10-24T05:46:09.618Z"
  },
  "kernelspec": {
   "display_name": "Python 3 (ipykernel)",
   "language": "python",
   "name": "python3"
  },
  "language_info": {
   "codemirror_mode": {
    "name": "ipython",
    "version": 3
   },
   "file_extension": ".py",
   "mimetype": "text/x-python",
   "name": "python",
   "nbconvert_exporter": "python",
   "pygments_lexer": "ipython3",
   "version": "3.9.2"
  }
 },
 "nbformat": 4,
 "nbformat_minor": 4
}
